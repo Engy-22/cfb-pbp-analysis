{
 "cells": [
  {
   "cell_type": "markdown",
   "metadata": {},
   "source": [
    "## Team Stat Calculations\n",
    "Author: Akshay Easwaran <akeaswaran@me.com>\n",
    "\n",
    "---\n",
    "Based on work by ESPN's Bill Connelly, Football Outsiders, and Football Study Hall\n",
    "\n",
    "Data from CollegeFootballData.com\n",
    "\n",
    "Useful Resources for Stat Definitions:\n",
    "- Football Study Hall website: https://www.footballstudyhall.com/\n",
    "- Football Study Hall book: https://www.amazon.com/Study-Hall-College-Football-Stories/dp/1484989961\n",
    "- Football Outsiders: https://www.footballoutsiders.com/info/glossary\n",
    "- Example Advanced Box Score: https://twitter.com/ESPN_BillC/status/1176572006969597954/photo/1"
   ]
  },
  {
   "cell_type": "markdown",
   "metadata": {},
   "source": [
    "**How to use this Notebook**\n",
    "\n",
    "1. Dump a team's play by play data, game data, and drive data from CollegeFootballData.com.\n",
    "2. Change the file names in the next cell to match where your data files are located.\n",
    "3. Change the away and home team names appropriately.\n",
    "4. Hit Cell > Run All Cells."
   ]
  },
  {
   "cell_type": "code",
   "execution_count": 81,
   "metadata": {},
   "outputs": [],
   "source": [
    "import requests\n",
    "import pandas as pd\n",
    "import json\n",
    "import html\n",
    "import os.path\n",
    "\n",
    "selected_team = 'Georgia Tech'\n",
    "total_points = 200\n",
    "opp_total_points = 389\n",
    "\n",
    "def verify_division(num1, num2):\n",
    "    return 0 if num2 == 0 else (num1 / num2)\n",
    "\n",
    "def retrieveCfbData(endpoint, team):\n",
    "    file_path = f\"data/{endpoint if (endpoint != 'plays') else 'pbp'}/{endpoint[:-1] if (endpoint != 'plays') else 'pbp'}-data-{team.lower().replace(' ','-')}.json\"\n",
    "    if (os.path.exists(file_path)):\n",
    "        return file_path\n",
    "    res = requests.get(f\"https://api.collegefootballdata.com/{endpoint}?seasonType=regular&year=2019&team={html.escape(team)}\")\n",
    "    content = res.json()\n",
    "    with open(file_path, 'w') as f:\n",
    "        json.dump(content, f)\n",
    "    return json.dumps(content)\n",
    "    \n",
    "\n",
    "pbp_data = pd.read_json(retrieveCfbData('plays',selected_team))\n",
    "# pbp_data.info()\n",
    "\n",
    "base_drives = pd.read_json(retrieveCfbData('drives',selected_team))\n",
    "base_drives.drop(['offense_conference','start_time','end_time','defense_conference','elapsed','start_period','end_period'], axis = 1, inplace=True) \n",
    "base_drives = base_drives[\n",
    "    ~base_drives.drive_result.isin(['END OF HALF','END OF GAME','Uncategorized'])\n",
    "]\n",
    "\n",
    "games = pd.read_json(retrieveCfbData('games',selected_team))"
   ]
  },
  {
   "cell_type": "code",
   "execution_count": 82,
   "metadata": {},
   "outputs": [
    {
     "name": "stdout",
     "output_type": "stream",
     "text": [
      "Total Drives: 275\n"
     ]
    }
   ],
   "source": [
    "# Data Cleaning\n",
    "# Fix the bad yard line markers for away teams\n",
    "drives = pd.merge(base_drives, games[['id','away_team','home_team']], left_on='game_id', right_on='id', how='right')\n",
    "drives.rename(columns={'id_x':'drive_id'}, inplace=True)\n",
    "drives.drop(['id_y'], axis = 1, inplace=True)\n",
    "drives.dropna(inplace=True)\n",
    "drives.loc[\n",
    "    drives.offense == drives.away_team, ['start_yardline']\n",
    "] = 100 - drives.start_yardline\n",
    "drives.loc[\n",
    "    drives.offense == drives.away_team, ['end_yardline']\n",
    "] = 100 - drives.end_yardline\n",
    "\n",
    "print(\"Total Drives:\", len(drives))\n",
    "# drives"
   ]
  },
  {
   "cell_type": "code",
   "execution_count": 83,
   "metadata": {},
   "outputs": [
    {
     "name": "stdout",
     "output_type": "stream",
     "text": [
      "Total Plays: 1586\n",
      "Garbage Time Plays: 209\n",
      "% of plays in garbage time: 0.1317780580075662\n",
      "Non-Garbage Time Plays: 1377\n"
     ]
    }
   ],
   "source": [
    "pbp_data = pbp_data[\n",
    "    (pbp_data.down != 0)\n",
    "]\n",
    "\n",
    "import numpy as np\n",
    "\n",
    "pbp_data.distance = pbp_data.distance.astype(float)\n",
    "\n",
    "bad_types = [\"Interception\",\"Pass Interception Return\",\"Interception Return Touchdown\",'Fumble Recovery (Opponent)','Sack','Fumble Return Touchdown']\n",
    "\n",
    "def is_successful_vector(play):\n",
    "    if (play.play_type in bad_types):\n",
    "        return False \n",
    "    if ((play.down == 1) & (play.yards_gained >= (0.5 * play.distance))):\n",
    "        return True\n",
    "    elif ((play.down == 2)) & (play.yards_gained >= (0.7 * play.distance)):\n",
    "        return True\n",
    "    elif ((play.down == 3) & (play.yards_gained >= play.distance)):\n",
    "        return True\n",
    "    elif ((play.down == 4) & (play.yards_gained >= play.distance)):\n",
    "        return True\n",
    "    else:\n",
    "        return False\n",
    "    \n",
    "pbp_data['play_successful'] = pbp_data.apply(lambda x: is_successful_vector(x), axis=1)\n",
    "pbp_data['play_explosive'] = pbp_data.apply(lambda x: x.yards_gained >= 15, axis=1)\n",
    "\n",
    "# Drop some unnecessary columns\n",
    "pbp_data.drop(['offense_conference','defense_conference','clock'], axis = 1, inplace=True) \n",
    "# Ignore some types of plays cause they're special teams and weird\n",
    "ignore_types = [\"Defensive 2pt Conversion\",\"Blocked Field Goal\",\"Blocked Punt\",\"Missed Field Goal Return\",\"Blocked Punt Touchdown\",\"Missed Field Goal Return Touchdown\",\"Extra Point Missed\",\"Extra Point Good\",\"Timeout\",\"End of Half\",\"End of Game\",\"Uncategorized\",\"Penalty\",\"Kickoff\",\"Kickoff Return (Offense)\",\"Kickoff Return Touchdown\",\"Punt\", \"Field Goal Good\",\"Field Goal Missed\",\"Safety\"]\n",
    "pbp_data = pbp_data[~(pbp_data.play_type.isin(ignore_types))]\n",
    "base_pbp_data = pbp_data.copy()\n",
    "\n",
    "# Eliminate garbage time plays\n",
    "garbage_time_data = pbp_data[\n",
    "    (pbp_data.down == 0)\n",
    "    | ((abs(pbp_data.offense_score - pbp_data.defense_score) >= 38) & (pbp_data.period == 2))\n",
    "    | ((abs(pbp_data.offense_score - pbp_data.defense_score) >= 28) & (pbp_data.period == 3))\n",
    "    | ((abs(pbp_data.offense_score - pbp_data.defense_score) >= 22) & (pbp_data.period == 4))\n",
    "]\n",
    "\n",
    "print(\"Total Plays:\", len(base_pbp_data))\n",
    "print(\"Garbage Time Plays:\", len(garbage_time_data))\n",
    "print(\"% of plays in garbage time:\", len(garbage_time_data)/len(pbp_data))\n",
    "pbp_data.drop(garbage_time_data.index, inplace=True)\n",
    "print(\"Non-Garbage Time Plays:\", len(pbp_data))\n",
    "\n",
    "# print(\"Total clean plays:\", len(pbp_data))"
   ]
  },
  {
   "cell_type": "code",
   "execution_count": null,
   "metadata": {},
   "outputs": [],
   "source": []
  },
  {
   "cell_type": "code",
   "execution_count": 123,
   "metadata": {},
   "outputs": [
    {
     "name": "stdout",
     "output_type": "stream",
     "text": [
      "Offensive Success Rates\n",
      "Georgia Tech\n",
      "Overall: 0.3542538354253835\n",
      "Passing: 0.3183856502242152\n",
      "Rushing: 0.37142857142857144\n",
      "\n",
      "Success Rates Allowed\n",
      "Georgia Tech\n",
      "Overall: 0.42692750287687\n",
      "Passing: 0.4115755627009646\n",
      "Rushing: 0.4337078651685393\n"
     ]
    }
   ],
   "source": [
    "pass_types = [\"Pass Reception\",\"Pass Incompletion\",\"Passing Touchdown\",\"Interception\",\"Pass Interception Return\",\"Interception Return Touchdown\"]\n",
    "rush_types = [\"Rush\",\"Rushing Touchdown\",'Fumble Recovery (Opponent)','Sack','Fumble Return Touchdown']\n",
    "\n",
    "print(\"Offensive Success Rates\")\n",
    "print(selected_team)\n",
    "print(\"Overall:\",len(base_pbp_data[(base_pbp_data.offense == selected_team) & (base_pbp_data.play_successful == True)]) / len(base_pbp_data[(base_pbp_data.offense == selected_team)]))\n",
    "print(\"Passing:\",len(pbp_data[(pbp_data.offense == selected_team) & (pbp_data.play_successful == True) & (pbp_data.play_type.isin(pass_types))]) / len(pbp_data[(pbp_data.offense == selected_team) & (pbp_data.play_type.isin(pass_types))]))\n",
    "print(\"Rushing:\",len(pbp_data[(pbp_data.offense == selected_team) & (pbp_data.play_successful == True) & (pbp_data.play_type.isin(rush_types))]) / len(pbp_data[(pbp_data.offense == selected_team) & (pbp_data.play_type.isin(rush_types))]))\n",
    "print(\"\")\n",
    "print(\"Success Rates Allowed\")\n",
    "print(selected_team)\n",
    "print(\"Overall:\",len(base_pbp_data[(base_pbp_data.defense == selected_team) & (base_pbp_data.play_successful == True)]) / len(base_pbp_data[(base_pbp_data.defense == selected_team)]))\n",
    "print(\"Passing:\",len(pbp_data[(pbp_data.defense == selected_team) & (pbp_data.play_successful == True) & (pbp_data.play_type.isin(pass_types))]) / len(pbp_data[(pbp_data.defense == selected_team) & (pbp_data.play_type.isin(pass_types))]))\n",
    "print(\"Rushing:\",len(pbp_data[(pbp_data.defense == selected_team) & (pbp_data.play_successful == True) & (pbp_data.play_type.isin(rush_types))]) / len(pbp_data[(pbp_data.defense == selected_team) & (pbp_data.play_type.isin(rush_types))]))"
   ]
  },
  {
   "cell_type": "code",
   "execution_count": 85,
   "metadata": {},
   "outputs": [
    {
     "name": "stdout",
     "output_type": "stream",
     "text": [
      "Success Rates on Specific Downs (Off/Allowed)\n",
      "Georgia Tech\n",
      "Down 1: 0.3848684210526316 / 0.4166666666666667\n",
      "\n",
      "Down 2: 0.33766233766233766 / 0.40625\n",
      "\n",
      "Down 3: 0.3090909090909091 / 0.4550561797752809\n",
      "\n",
      "Down 4: 0.47058823529411764 / 0.6842105263157895\n",
      "\n",
      "Success Rate by Q\n",
      "Q1: 0.3107344632768362  /  0.46017699115044247\n",
      "Q2: 0.36065573770491804  /  0.4204081632653061\n",
      "Q3: 0.32941176470588235  /  0.42574257425742573\n",
      "Q4: 0.4166666666666667  /  0.41397849462365593\n",
      "Q5: 0.2857142857142857  /  0.1\n"
     ]
    }
   ],
   "source": [
    "downs = [1, 2, 3, 4]\n",
    "print(\"Success Rates on Specific Downs (Off/Allowed)\")\n",
    "print(selected_team)\n",
    "for d in downs:\n",
    "    intermed = base_pbp_data[\n",
    "        (base_pbp_data.down == d)\n",
    "    ]\n",
    "    print(f\"Down {d}: {len(intermed[(intermed.play_successful == True) & (intermed.offense == selected_team)]) / len(intermed[(intermed.offense == selected_team)])} / {len(intermed[(intermed.play_successful == True) & (intermed.defense == selected_team)]) / len(intermed[(intermed.defense == selected_team)])}\")\n",
    "\n",
    "    print(\"\")\n",
    "    \n",
    "print(\"Success Rate by Q\")\n",
    "for i in range(1, base_pbp_data.period.nunique()+1):\n",
    "    print(f\"Q{i}:\", len(base_pbp_data[(base_pbp_data.period == i) & (base_pbp_data.offense == selected_team) & (base_pbp_data.play_successful == True)]) / len(base_pbp_data[(base_pbp_data.period == i) & (base_pbp_data.offense == selected_team)]),f\" / \", len(base_pbp_data[(base_pbp_data.period == i) & (base_pbp_data.defense == selected_team) & (base_pbp_data.play_successful == True)]) / len(base_pbp_data[(base_pbp_data.period == i) & (base_pbp_data.defense == selected_team)]))\n"
   ]
  },
  {
   "cell_type": "code",
   "execution_count": 86,
   "metadata": {},
   "outputs": [
    {
     "name": "stdout",
     "output_type": "stream",
     "text": [
      "Explosiveness Plays (Rates)\n",
      "Georgia Tech\n",
      "Overall: 79 / 717 ( 0.1101813110181311 )\n",
      "Passing: 42 / 268 ( 0.15671641791044777 )\n",
      "Rushing: 37 / 442 ( 0.083710407239819 )\n",
      "\n",
      "Explosiveness Plays Allowed (Rates)\n",
      "Georgia Tech\n",
      "Overall: 95 / 869 ( 0.1093210586881473 )\n",
      "Passing: 64 / 330 ( 0.19393939393939394 )\n",
      "Rushing: 31 / 533 ( 0.058161350844277676 )\n"
     ]
    }
   ],
   "source": [
    "# Explosiveness rates\n",
    "# Defined as rate of 15+ yards gains\n",
    "\n",
    "print(\"Explosiveness Plays (Rates)\")\n",
    "print(selected_team)\n",
    "print(\"Overall:\",len(base_pbp_data[(base_pbp_data.offense == selected_team) & (base_pbp_data.play_explosive == True)]),\"/\", len(base_pbp_data[(base_pbp_data.offense == selected_team)]),\"(\",len(base_pbp_data[(base_pbp_data.offense == selected_team) & (base_pbp_data.play_explosive == True)]) / len(base_pbp_data[(base_pbp_data.offense == selected_team)]),\")\")\n",
    "print(\"Passing:\",len(base_pbp_data[(base_pbp_data.offense == selected_team) & (base_pbp_data.play_explosive == True) & (base_pbp_data.play_type.isin(pass_types))]),\"/\", len(base_pbp_data[(base_pbp_data.offense == selected_team) & (base_pbp_data.play_type.isin(pass_types))]),\"(\",len(base_pbp_data[(base_pbp_data.offense == selected_team) & (base_pbp_data.play_explosive == True) & (base_pbp_data.play_type.isin(pass_types))]) / len(base_pbp_data[(base_pbp_data.offense == selected_team) & (base_pbp_data.play_type.isin(pass_types))]),\")\")\n",
    "print(\"Rushing:\",len(base_pbp_data[(base_pbp_data.offense == selected_team) & (base_pbp_data.play_explosive == True) & (base_pbp_data.play_type.isin(rush_types))]),\"/\", len(base_pbp_data[(base_pbp_data.offense == selected_team) & (base_pbp_data.play_type.isin(rush_types))]),\"(\",len(base_pbp_data[(base_pbp_data.offense == selected_team) & (base_pbp_data.play_explosive == True) & (base_pbp_data.play_type.isin(rush_types))]) / len(base_pbp_data[(base_pbp_data.offense == selected_team) & (base_pbp_data.play_type.isin(rush_types))]),\")\")\n",
    "print(\"\")\n",
    "print(\"Explosiveness Plays Allowed (Rates)\")\n",
    "print(selected_team)\n",
    "print(\"Overall:\",len(base_pbp_data[(base_pbp_data.defense == selected_team) & (base_pbp_data.play_explosive == True)]),\"/\", len(base_pbp_data[(base_pbp_data.defense == selected_team)]),\"(\",len(base_pbp_data[(base_pbp_data.defense == selected_team) & (base_pbp_data.play_explosive == True)]) / len(base_pbp_data[(base_pbp_data.defense == selected_team)]),\")\")\n",
    "print(\"Passing:\",len(base_pbp_data[(base_pbp_data.defense == selected_team) & (base_pbp_data.play_explosive == True) & (base_pbp_data.play_type.isin(pass_types))]),\"/\", len(base_pbp_data[(base_pbp_data.defense == selected_team) & (base_pbp_data.play_type.isin(pass_types))]),\"(\",len(base_pbp_data[(base_pbp_data.defense == selected_team) & (base_pbp_data.play_explosive == True) & (base_pbp_data.play_type.isin(pass_types))]) / len(base_pbp_data[(base_pbp_data.defense == selected_team) & (base_pbp_data.play_type.isin(pass_types))]),\")\")\n",
    "print(\"Rushing:\",len(base_pbp_data[(base_pbp_data.defense == selected_team) & (base_pbp_data.play_explosive == True) & (base_pbp_data.play_type.isin(rush_types))]),\"/\", len(base_pbp_data[(base_pbp_data.defense == selected_team) & (base_pbp_data.play_type.isin(rush_types))]),\"(\",len(base_pbp_data[(base_pbp_data.defense == selected_team) & (base_pbp_data.play_explosive == True) & (base_pbp_data.play_type.isin(rush_types))]) / len(base_pbp_data[(base_pbp_data.defense == selected_team) & (base_pbp_data.play_type.isin(rush_types))]),\")\")"
   ]
  },
  {
   "cell_type": "code",
   "execution_count": 87,
   "metadata": {},
   "outputs": [
    {
     "name": "stdout",
     "output_type": "stream",
     "text": [
      "Georgia Tech\n",
      "Havoc Caused Rate:  111 / 869 ( 0.1277330264672037 )\n",
      "Havoc Suffered Rate:  119 / 717 ( 0.16596931659693165 )\n"
     ]
    }
   ],
   "source": [
    "# Havoc plays\n",
    "havoc_plays = base_pbp_data[\n",
    "    (((base_pbp_data.play_type == 'Pass Incompletion')\n",
    "    & (base_pbp_data.play_text.str.contains('broken up', regex=False)))\n",
    "    | (base_pbp_data.play_type == 'Fumble Recovery (Opponent)')\n",
    "    | (base_pbp_data.play_type == 'Sack')\n",
    "    | (base_pbp_data.play_type.str.contains('Interception', regex=False))\n",
    "    | (base_pbp_data.yards_gained < 0))\n",
    "    & (base_pbp_data.play_type != 'Penalty')\n",
    "]\n",
    "\n",
    "print(selected_team)\n",
    "print(\"Havoc Caused Rate: \", len(havoc_plays[\n",
    "    havoc_plays.defense == selected_team\n",
    "]), \"/\", len(base_pbp_data[\n",
    "    base_pbp_data.defense == selected_team\n",
    "]), \"(\",len(havoc_plays[\n",
    "    havoc_plays.defense == selected_team\n",
    "]) / len(base_pbp_data[\n",
    "    base_pbp_data.defense == selected_team\n",
    "]),\")\")\n",
    "print(\"Havoc Suffered Rate: \", len(havoc_plays[\n",
    "    havoc_plays.offense == selected_team\n",
    "]), \"/\", len(base_pbp_data[\n",
    "    base_pbp_data.offense == selected_team\n",
    "]), \"(\",len(havoc_plays[\n",
    "    havoc_plays.offense == selected_team\n",
    "]) / len(base_pbp_data[\n",
    "    base_pbp_data.offense == selected_team\n",
    "]),\")\")"
   ]
  },
  {
   "cell_type": "code",
   "execution_count": 88,
   "metadata": {},
   "outputs": [
    {
     "name": "stdout",
     "output_type": "stream",
     "text": [
      "Georgia Tech\n",
      "Drives: 140\n",
      "Yards: 3355\n",
      "Plays: 691\n",
      "Avg Starting Field Position: 26.714285714285715\n",
      "Yards per Play: 4.855282199710564\n",
      "Plays per Drive: 4.935714285714286\n",
      "Yards per Drive: 23.964285714285715\n",
      "Points per Drive:  1.4285714285714286\n",
      "\n",
      "Opponents\n",
      "Drives: 135\n",
      "Yards: 4908\n",
      "Plays: 843\n",
      "Avg Starting Field Position: 33.2962962962963\n",
      "Yards per Play: 5.822064056939502\n",
      "Plays per Drive: 6.2444444444444445\n",
      "Yards per Drive: 36.355555555555554\n",
      "Points per Drive:  2.8814814814814813\n"
     ]
    }
   ],
   "source": [
    "selected_team_drives = drives[\n",
    "    drives.offense == selected_team\n",
    "]\n",
    "print(selected_team)\n",
    "print(\"Drives:\", len(selected_team_drives))\n",
    "print(\"Yards:\",sum(selected_team_drives.yards))\n",
    "print(\"Plays:\",sum(selected_team_drives.plays))\n",
    "print(\"Avg Starting Field Position:\", selected_team_drives.start_yardline.mean())\n",
    "print(\"Yards per Play:\", sum(selected_team_drives.yards) / sum(selected_team_drives.plays))\n",
    "print(\"Plays per Drive:\", sum(selected_team_drives.plays) / len(selected_team_drives))\n",
    "print(\"Yards per Drive:\", sum(selected_team_drives.yards) / len(selected_team_drives))\n",
    "print(\"Points per Drive: \", total_points / len(selected_team_drives))\n",
    "\n",
    "print(\"\")\n",
    "\n",
    "opp_team_drives = drives[\n",
    "    drives.defense == selected_team\n",
    "]\n",
    "\n",
    "print(\"Opponents\")\n",
    "print(\"Drives:\", len(opp_team_drives))\n",
    "print(\"Yards:\",sum(opp_team_drives.yards))\n",
    "print(\"Plays:\",sum(opp_team_drives.plays))\n",
    "print(\"Avg Starting Field Position:\", opp_team_drives.start_yardline.mean())\n",
    "print(\"Yards per Play:\", sum(opp_team_drives.yards) / sum(opp_team_drives.plays))\n",
    "print(\"Plays per Drive:\", sum(opp_team_drives.plays) / len(opp_team_drives))\n",
    "print(\"Yards per Drive:\", sum(opp_team_drives.yards) / len(opp_team_drives))\n",
    "print(\"Points per Drive: \", opp_total_points / len(opp_team_drives))"
   ]
  },
  {
   "cell_type": "code",
   "execution_count": 89,
   "metadata": {},
   "outputs": [],
   "source": [
    "# Measuring success rate for a single player\n",
    "# pbp_data[\n",
    "#     (pbp_data.play_text.str.contains(\"Quentin Harris\"))\n",
    "#     & (pbp_data.play_type.isin(pass_types))\n",
    "#     & (~pbp_data.play_type.str.contains(\"Sack\"))\n",
    "# ].play_successful.value_counts(normalize=True)"
   ]
  },
  {
   "cell_type": "code",
   "execution_count": 90,
   "metadata": {},
   "outputs": [],
   "source": [
    "# Standard vs Passing Downs success rates\n",
    "# Success rate on standard downs == leverage rate\n",
    "\n",
    "standard_downs = pbp_data[\n",
    "    (pbp_data.down == 1)\n",
    "    | ((pbp_data.down == 2) & (pbp_data.distance <= 7))\n",
    "    | ((pbp_data.down == 3) & (pbp_data.distance <= 4))\n",
    "    | ((pbp_data.down == 4) & (pbp_data.distance <= 4)) \n",
    "]\n",
    "\n",
    "passing_downs = pbp_data[\n",
    "    ((pbp_data.down == 2) & (pbp_data.distance >= 8))\n",
    "    | ((pbp_data.down == 3) & (pbp_data.distance >= 5))\n",
    "    | ((pbp_data.down == 4) & (pbp_data.distance >= 5)) \n",
    "]"
   ]
  },
  {
   "cell_type": "code",
   "execution_count": 91,
   "metadata": {},
   "outputs": [
    {
     "name": "stdout",
     "output_type": "stream",
     "text": [
      "Georgia Tech Success Rate on Std Downs: 0.4138817480719794\n",
      "Opp Success Rate on Std Downs: 0.4537037037037037\n",
      "Georgia Tech Success Rate on Passing Downs: 0.23893805309734514\n",
      "Opp Success Rate on Passing Downs: 0.34234234234234234\n"
     ]
    }
   ],
   "source": [
    "print(selected_team,\"Success Rate on Std Downs:\",len(standard_downs[\n",
    "    (standard_downs.offense == selected_team)\n",
    "    & (standard_downs.play_successful == True)\n",
    "]) / len(standard_downs[\n",
    "    (standard_downs.offense == selected_team)\n",
    "]))\n",
    "print(\"Opp Success Rate on Std Downs:\",len(standard_downs[\n",
    "    (standard_downs.defense == selected_team)\n",
    "    & (standard_downs.play_successful == True)\n",
    "]) / len(standard_downs[\n",
    "    (standard_downs.defense == selected_team)\n",
    "]))\n",
    "\n",
    "print(selected_team,\"Success Rate on Passing Downs:\",len(passing_downs[\n",
    "    (passing_downs.offense == selected_team)\n",
    "    & (passing_downs.play_successful == True)\n",
    "]) / len(passing_downs[\n",
    "    (passing_downs.offense == selected_team)\n",
    "]))\n",
    "\n",
    "print(\"Opp Success Rate on Passing Downs:\",len(passing_downs[\n",
    "    (passing_downs.defense == selected_team)\n",
    "    & (passing_downs.play_successful == True)\n",
    "]) / len(passing_downs[\n",
    "    (passing_downs.defense == selected_team)\n",
    "]))"
   ]
  },
  {
   "cell_type": "code",
   "execution_count": 92,
   "metadata": {},
   "outputs": [],
   "source": [
    "pass_plays = base_pbp_data[\n",
    "    base_pbp_data.play_type.isin(pass_types)\n",
    "]\n",
    "rush_plays = base_pbp_data[\n",
    "    base_pbp_data.play_type.isin(rush_types)\n",
    "]"
   ]
  },
  {
   "cell_type": "code",
   "execution_count": 93,
   "metadata": {},
   "outputs": [],
   "source": [
    "# Stuff Rate\n",
    "stuffed_plays = rush_plays[\n",
    "    (rush_plays.yards_gained <= 0)\n",
    "    & (rush_plays.play_type != 'Sack')\n",
    "]"
   ]
  },
  {
   "cell_type": "code",
   "execution_count": 94,
   "metadata": {},
   "outputs": [
    {
     "name": "stdout",
     "output_type": "stream",
     "text": [
      "Georgia Tech Defensive Stuff Rate:  77 / 533 ( 0.14446529080675422 )\n",
      "Georgia Tech Defensive Stuffs Suffered Rate:  92 / 442 ( 0.2081447963800905 )\n"
     ]
    }
   ],
   "source": [
    "selected_team_stuffs = stuffed_plays[\n",
    "    stuffed_plays.defense == selected_team\n",
    "]\n",
    "print(selected_team,\"Defensive Stuff Rate: \",len(selected_team_stuffs),\"/\",len(rush_plays[rush_plays.defense == selected_team]),\"(\",len(selected_team_stuffs)/len(rush_plays[rush_plays.defense == selected_team]),\")\")\n",
    "print(selected_team,\"Defensive Stuffs Suffered Rate: \",len(stuffed_plays[\n",
    "    stuffed_plays.offense == selected_team\n",
    "]),\"/\",len(rush_plays[rush_plays.offense == selected_team]),\"(\",len(stuffed_plays[\n",
    "    stuffed_plays.offense == selected_team\n",
    "])/len(rush_plays[rush_plays.offense == selected_team]),\")\")\n"
   ]
  },
  {
   "cell_type": "code",
   "execution_count": 95,
   "metadata": {},
   "outputs": [
    {
     "name": "stdout",
     "output_type": "stream",
     "text": [
      "Georgia Tech Rush Opp Rate:  207 / 442 ( 0.4683257918552036 )\n",
      "Georgia Tech Rush Opp Allowed Rate:  255 / 533 ( 0.47842401500938087 )\n",
      "Georgia Tech Line Yards per Carry: 0.18438914027149322\n",
      "Georgia Tech Highlight Yards per Carry: 4.478506787330317\n",
      "Georgia Tech Yards per Carry: 4.66289592760181\n",
      "Georgia Tech Highlight Yards per Rush: 9.227053140096618\n",
      "\n",
      "Opp Line Yards per Carry: 0.9202626641651032\n",
      "Opp Highlight Yards per Carry: 4.083489681050657\n",
      "Opp Yards per Carry: 5.0037523452157595\n",
      "Opp Highlight Yards per Rush: 8.362745098039216\n"
     ]
    },
    {
     "name": "stderr",
     "output_type": "stream",
     "text": [
      "/Users/akeaswaran/anaconda3/lib/python3.7/site-packages/ipykernel_launcher.py:12: SettingWithCopyWarning: \n",
      "A value is trying to be set on a copy of a slice from a DataFrame.\n",
      "Try using .loc[row_indexer,col_indexer] = value instead\n",
      "\n",
      "See the caveats in the documentation: http://pandas.pydata.org/pandas-docs/stable/indexing.html#indexing-view-versus-copy\n",
      "  if sys.path[0] == '':\n",
      "/Users/akeaswaran/anaconda3/lib/python3.7/site-packages/ipykernel_launcher.py:13: SettingWithCopyWarning: \n",
      "A value is trying to be set on a copy of a slice from a DataFrame.\n",
      "Try using .loc[row_indexer,col_indexer] = value instead\n",
      "\n",
      "See the caveats in the documentation: http://pandas.pydata.org/pandas-docs/stable/indexing.html#indexing-view-versus-copy\n",
      "  del sys.path[0]\n"
     ]
    }
   ],
   "source": [
    "# Line Yards -- not adjusted for down/distance/opponent/shotgun\n",
    "def adjust_strength_for_ol(yards_gained):\n",
    "    if (yards_gained < 0):\n",
    "        return yards_gained * 1.25\n",
    "    elif ((yards_gained >= 0) & (yards_gained <= 3)):\n",
    "        return yards_gained * 1.0\n",
    "    elif ((yards_gained >= 4) & (yards_gained <= 6)):\n",
    "        return yards_gained * 0.5\n",
    "    else:\n",
    "        return 0\n",
    "\n",
    "rush_plays['line_yards'] = rush_plays.apply(lambda x: adjust_strength_for_ol(x.yards_gained), axis=1)\n",
    "rush_plays['highlight_yards'] = rush_plays.apply(lambda x: x.yards_gained - adjust_strength_for_ol(x.yards_gained), axis=1)\n",
    "\n",
    "# Opportunity Rate\n",
    "rush_opps = rush_plays[\n",
    "    (rush_plays.yards_gained >= 4)\n",
    "]\n",
    "print(selected_team,\"Rush Opp Rate: \",len(rush_opps[rush_opps.offense == selected_team]),\"/\",len(rush_plays[rush_plays.offense == selected_team]),\"(\",len(rush_opps[rush_opps.offense == selected_team])/len(rush_plays[rush_plays.offense == selected_team]),\")\")\n",
    "print(selected_team,\"Rush Opp Allowed Rate: \",len(rush_opps[rush_opps.defense == selected_team]),\"/\",len(rush_plays[rush_plays.defense == selected_team]),\"(\",len(rush_opps[rush_opps.defense == selected_team])/len(rush_plays[rush_plays.defense == selected_team]),\")\")\n",
    "\n",
    "print(selected_team,\"Line Yards per Carry:\",sum(rush_plays[rush_plays.offense == selected_team].line_yards) / len(rush_plays[rush_plays.offense == selected_team]))\n",
    "print(selected_team,\"Highlight Yards per Carry:\",sum(rush_plays[rush_plays.offense == selected_team].highlight_yards) / len(rush_plays[rush_plays.offense == selected_team]))\n",
    "print(selected_team,\"Yards per Carry:\",sum(rush_plays[rush_plays.offense == selected_team].yards_gained) / len(rush_plays[rush_plays.offense == selected_team]))\n",
    "print(selected_team,\"Highlight Yards per Rush:\",sum(rush_opps[rush_opps.offense == selected_team].highlight_yards) / len(rush_opps[rush_opps.offense == selected_team]))\n",
    "\n",
    "print(\"\")\n",
    "\n",
    "print(\"Opp Line Yards per Carry:\",sum(rush_plays[rush_plays.defense == selected_team].line_yards) / len(rush_plays[rush_plays.defense == selected_team]))\n",
    "print(\"Opp Highlight Yards per Carry:\",sum(rush_plays[rush_plays.defense == selected_team].highlight_yards) / len(rush_plays[rush_plays.defense == selected_team]))\n",
    "print(\"Opp Yards per Carry:\",sum(rush_plays[rush_plays.defense == selected_team].yards_gained) / len(rush_plays[rush_plays.defense == selected_team]))\n",
    "print(\"Opp Highlight Yards per Rush:\",sum(rush_opps[rush_opps.defense == selected_team].highlight_yards) / len(rush_opps[rush_opps.defense == selected_team]))"
   ]
  },
  {
   "cell_type": "code",
   "execution_count": 96,
   "metadata": {},
   "outputs": [
    {
     "name": "stdout",
     "output_type": "stream",
     "text": [
      "Georgia Tech\n",
      "Def INTs: 7\n",
      "Off INTs: 10\n",
      "Off PDs: 25\n",
      "Exp INTs: 7.7\n",
      "Fum Recovered: 5\n",
      "Fum Lost: 8\n",
      "Exp Fum: 13.0\n",
      "Actual TO: 18\n",
      "Actual TO Margin: -6\n",
      "Exp TO: 20.7\n"
     ]
    }
   ],
   "source": [
    "# Expected and Adjusted Turnover Margins\n",
    "\n",
    "adj_turnover_plays = base_pbp_data[\n",
    "    (base_pbp_data.play_type.str.contains('Interception', regex=False))\n",
    "    | ((base_pbp_data.play_type == 'Pass Incompletion')\n",
    "    & (base_pbp_data.play_text.str.contains('broken up', regex=False)))\n",
    "    | (base_pbp_data.play_type.str.contains('Fumble', regex=False))\n",
    "]\n",
    "\n",
    "adj_fum = 0.5 * len(adj_turnover_plays[\n",
    "    (adj_turnover_plays.play_type.str.contains('Fumble', regex=False))\n",
    "])\n",
    "\n",
    "# selected_team Adj Turnovers\n",
    "selected_team_tos = adj_turnover_plays[\n",
    "    (adj_turnover_plays.offense == selected_team)\n",
    "    | (adj_turnover_plays.defense == selected_team)\n",
    "]\n",
    "print(selected_team)\n",
    "selected_team_ints_def = len(selected_team_tos[\n",
    "   (selected_team_tos.play_type.str.contains('Interception', regex=False))\n",
    "    & (selected_team_tos.defense == selected_team)\n",
    "])\n",
    "\n",
    "selected_team_ints_off = len(selected_team_tos[\n",
    "   (selected_team_tos.play_type.str.contains('Interception', regex=False))\n",
    "    & (selected_team_tos.offense == selected_team)\n",
    "])\n",
    "\n",
    "selected_team_pds = len(selected_team_tos[\n",
    "    (((selected_team_tos.play_type == 'Pass Incompletion') & (selected_team_tos.play_text.str.contains('broken up', regex=False))) \n",
    "     | (selected_team_tos.play_type.str.contains('Interception', regex=False)))\n",
    "    & (selected_team_tos.offense == selected_team)\n",
    "])\n",
    "\n",
    "selected_team_fum_rec = selected_team_tos[(selected_team_tos.play_type == 'Fumble Recovery (Opponent)') & (selected_team_tos.defense == selected_team)]\n",
    "selected_team_fum_lost = selected_team_tos[(selected_team_tos.play_type == 'Fumble Recovery (Opponent)') & (selected_team_tos.offense == selected_team)]\n",
    "\n",
    "print(\"Def INTs:\",selected_team_ints_def)\n",
    "print(\"Off INTs:\",selected_team_ints_off)\n",
    "print(\"Off PDs:\",selected_team_pds)\n",
    "print(\"Exp INTs:\",0.22 * (selected_team_pds + selected_team_ints_off))\n",
    "print(\"Fum Recovered:\",len(selected_team_fum_rec))\n",
    "print(\"Fum Lost:\",len(selected_team_fum_lost))\n",
    "print(\"Exp Fum:\",adj_fum)\n",
    "print(\"Actual TO:\",selected_team_ints_off + len(selected_team_fum_lost))\n",
    "print(\"Actual TO Margin:\",(selected_team_ints_def + len(selected_team_fum_rec) - selected_team_ints_off) - len(selected_team_fum_lost))\n",
    "selected_team_exp_to = (0.22 * (selected_team_pds + selected_team_ints_off)) + adj_fum\n",
    "print(\"Exp TO:\",selected_team_exp_to)"
   ]
  },
  {
   "cell_type": "code",
   "execution_count": 97,
   "metadata": {},
   "outputs": [
    {
     "name": "stdout",
     "output_type": "stream",
     "text": [
      "TO Luck for Georgia Tech : -13.499999999999996\n",
      "TO Luck/gm for Georgia Tech : -1.1249999999999998\n"
     ]
    }
   ],
   "source": [
    "to_luck = (selected_team_ints_off + len(selected_team_fum_lost) - selected_team_exp_to)\n",
    "print(\"TO Luck for\",selected_team,\":\",to_luck*5.0)\n",
    "print(\"TO Luck/gm for\",selected_team,\":\",(to_luck*5.0 / len(games.notna())))"
   ]
  },
  {
   "cell_type": "code",
   "execution_count": 98,
   "metadata": {},
   "outputs": [
    {
     "name": "stdout",
     "output_type": "stream",
     "text": [
      "Scoring Opportunities (IE: Drives inside Opponent's 40)\n",
      "Georgia Tech\n",
      "Total: 51\n",
      "Scored: 28\n",
      "Opp Efficiency: 0.5490196078431373\n",
      "Opps/Drive: 0.36428571428571427\n",
      "Points/Opp: 3.4901960784313726\n",
      "\n",
      "Opponents\n",
      "Total: 81\n",
      "Scored: 61\n",
      "Opp Efficiency: 0.7530864197530864\n",
      "Opps/Drive: 0.6\n",
      "Points/Opp: 4.08641975308642\n"
     ]
    }
   ],
   "source": [
    "# Scoring Opportunities\n",
    "# Definition: roughly, any time you get inside the opponent's 40, you should probably score\n",
    "\n",
    "scoring_opps = drives[\n",
    "    ((drives.start_yardline + drives.yards) >= 60)\n",
    "]\n",
    "\n",
    "# away team's scoring opps\n",
    "print(\"Scoring Opportunities (IE: Drives inside Opponent's 40)\")\n",
    "print(selected_team)\n",
    "selected_team_scoring_opps = scoring_opps[\n",
    "    scoring_opps.offense == selected_team\n",
    "]\n",
    "print(\"Total:\",len(selected_team_scoring_opps))\n",
    "print(\"Scored:\",len(selected_team_scoring_opps[selected_team_scoring_opps.scoring == True]))\n",
    "print(\"Opp Efficiency:\",len(selected_team_scoring_opps[selected_team_scoring_opps.scoring == True]) / len(selected_team_scoring_opps))\n",
    "print(\"Opps/Drive:\",len(selected_team_scoring_opps) / len(drives[drives.offense == selected_team]))\n",
    "print(\"Points/Opp:\",(len(selected_team_scoring_opps[selected_team_scoring_opps.drive_result == 'TD']) * 7 + len(selected_team_scoring_opps[selected_team_scoring_opps.drive_result == 'FG'] * 3)) / len(selected_team_scoring_opps))\n",
    "\n",
    "print(\"\")\n",
    "# Opponents' scoring opps\n",
    "print(\"Opponents\")\n",
    "def_scoring_opps = scoring_opps[\n",
    "    scoring_opps.defense == selected_team\n",
    "]\n",
    "print(\"Total:\",len(def_scoring_opps))\n",
    "print(\"Scored:\",len(def_scoring_opps[def_scoring_opps.scoring == True]))\n",
    "print(\"Opp Efficiency:\",len(def_scoring_opps[def_scoring_opps.scoring == True]) / len(def_scoring_opps))\n",
    "print(\"Opps/Drive:\",len(def_scoring_opps) / len(drives[drives.defense == selected_team]))\n",
    "print(\"Points/Opp:\",(len(def_scoring_opps[def_scoring_opps.drive_result == 'TD']) * 7 + len(def_scoring_opps[def_scoring_opps.drive_result == 'FG'] * 3)) / len(def_scoring_opps))"
   ]
  },
  {
   "cell_type": "code",
   "execution_count": 103,
   "metadata": {},
   "outputs": [
    {
     "name": "stdout",
     "output_type": "stream",
     "text": [
      "Georgia Tech total SR% in scoring opps: 0.5116959064327485\n",
      "Opponents total SR% in scoring opps: 0.5051369863013698\n"
     ]
    }
   ],
   "source": [
    "def calculate_success_in_scoring_opps(opps, team):\n",
    "    opp_ids = opps.drive_id.unique()\n",
    "    success = 0\n",
    "    total = 0\n",
    "    for opp_id in opp_ids:\n",
    "        opp_set = base_pbp_data[(base_pbp_data.drive_id == opp_id)]\n",
    "        opp_s_rate = verify_division(len(opp_set[opp_set.play_successful == True]), len(opp_set))\n",
    "#         print(f\"{team} SR% in opp {opp_id}: {opp_s_rate}\")\n",
    "        success += len(opp_set[opp_set.play_successful == True])\n",
    "        total += len(opp_set)\n",
    "    s_rate = 0 if total == 0 else (success / total)\n",
    "    print(f\"{team} total SR% in scoring opps: {s_rate}\")\n",
    "\n",
    "calculate_success_in_scoring_opps(selected_team_scoring_opps, selected_team)\n",
    "calculate_success_in_scoring_opps(def_scoring_opps, \"Opponents\")"
   ]
  },
  {
   "cell_type": "code",
   "execution_count": 107,
   "metadata": {},
   "outputs": [
    {
     "name": "stdout",
     "output_type": "stream",
     "text": [
      "Explosiveness Rates\n",
      "Offensive Exp Rate Stats for Georgia Tech\n",
      "Total Exp Plays: 79\n",
      "Overall Exp %: 0.1101813110181311\n",
      "Pass Exp %: 0.15671641791044777\n",
      "Pass Exp % (Std Downs): 0.1532258064516129\n",
      "Pass Exp % (Pas Downs): 0.16161616161616163\n",
      "Rush Exp %: 0.083710407239819\n",
      "\n",
      "---\n",
      "\n",
      "Defensive Exp Rate Stats for Georgia Tech\n",
      "Total Exp Plays: 95\n",
      "Overall Exp %: 0.1093210586881473\n",
      "Pass Exp %: 0.19393939393939394\n",
      "Pass Exp % (Std Downs): 0.1532258064516129\n",
      "Pass Exp % (Pas Downs): 0.16161616161616163\n",
      "Rush Exp %: 0.058161350844277676\n"
     ]
    }
   ],
   "source": [
    "###### Explosiveness rates\n",
    "# Defined as rate of 15+ yards gains\n",
    "def generate_exp_rate_stats(team, offense):\n",
    "    team_plays = base_pbp_data[(base_pbp_data.offense == team)] if offense else base_pbp_data[(base_pbp_data.defense == team)]\n",
    "    exp_plays = team_plays[(team_plays.play_explosive == True)]\n",
    "    poss = \"Offensive\" if offense else \"Defensive\"\n",
    "    print(f\"{poss} Exp Rate Stats for {team}\")\n",
    "    print(f\"Total Exp Plays: {len(exp_plays)}\")\n",
    "    print(f\"Overall Exp %: {verify_division(len(exp_plays),len(team_plays))}\")\n",
    "    print(f\"Pass Exp %: {verify_division(len(exp_plays[(exp_plays.play_type.isin(pass_types))]),len(team_plays[(team_plays.play_type.isin(pass_types))]))}\")\n",
    "    print(f\"Pass Exp % (Std Downs): {verify_division(len(standard_downs[(standard_downs.offense == team) & (standard_downs.play_explosive == True) & (standard_downs.play_type.isin(pass_types))]),len(standard_downs[(standard_downs.offense == team) & (standard_downs.play_type.isin(pass_types))]))}\")\n",
    "    print(f\"Pass Exp % (Pas Downs): {verify_division(len(passing_downs[(passing_downs.offense == team) & (passing_downs.play_explosive == True) & (passing_downs.play_type.isin(pass_types))]),len(passing_downs[(passing_downs.offense == team) & (passing_downs.play_type.isin(pass_types))]))}\")\n",
    "    print(f\"Rush Exp %: {verify_division(len(exp_plays[(exp_plays.play_type.isin(rush_types))]),len(team_plays[(team_plays.play_type.isin(rush_types))]))}\")\n",
    "\n",
    "print(\"Explosiveness Rates\")\n",
    "generate_exp_rate_stats(selected_team, True)\n",
    "print(\"\\n---\\n\")\n",
    "generate_exp_rate_stats(selected_team, False)"
   ]
  },
  {
   "cell_type": "code",
   "execution_count": 108,
   "metadata": {},
   "outputs": [
    {
     "name": "stdout",
     "output_type": "stream",
     "text": [
      "Defensive Stop Rates\n",
      "---\n",
      "Defensive Stop Stats for Georgia Tech\n",
      "Total: 59\n",
      "Stop Rate %: 0.43703703703703706\n",
      "Stops/ScOpp: 0.7283950617283951\n",
      "\n",
      "---\n",
      "\n",
      "Offensive Stop Stats for Georgia Tech\n",
      "Total: 99\n",
      "Stop Rate %: 0.7071428571428572\n",
      "Stops/ScOpp: 1.9411764705882353\n"
     ]
    }
   ],
   "source": [
    "###### Stop Rate\n",
    "## Defined as defensive drives that end in turnovers, punts, or turnovers on downs\n",
    "import re\n",
    "stop_types = ['TURNOVER ON DOWNS','PUNT','FUMBLE','INT', 'SAFETY']\n",
    "def generate_stop_rate_stats(team, offense):\n",
    "    team_drives = drives[(drives.offense == team)] if offense else drives[(drives.defense == team)]\n",
    "    stop_drives = team_drives[(team_drives.drive_result.str.contains(\"|\".join(stop_types)) == True)]\n",
    "    poss = \"Offensive\" if offense else \"Defensive\"\n",
    "    print(f\"{poss} Stop Stats for {team}\")\n",
    "    print(f\"Total: {len(stop_drives)}\")\n",
    "    print(f\"Stop Rate %: {verify_division(len(stop_drives),len(team_drives))}\")\n",
    "    print(f\"Stops/ScOpp: {verify_division(len(stop_drives),len(team_drives[((team_drives.start_yardline + team_drives.yards) >= 60)]))}\")\n",
    "print(\"Defensive Stop Rates\")\n",
    "print(\"---\")\n",
    "generate_stop_rate_stats(selected_team, False)\n",
    "print(\"\\n---\\n\")\n",
    "generate_stop_rate_stats(selected_team, True)"
   ]
  },
  {
   "cell_type": "code",
   "execution_count": 110,
   "metadata": {},
   "outputs": [
    {
     "name": "stdout",
     "output_type": "stream",
     "text": [
      "Offensive Conv Down Stats for Georgia Tech\n",
      "Conv Downs: 182\n",
      "Yds/CV: 7.302197802197802\n",
      "Conv Down %: 0.2633863965267728\n",
      "Conv/Drive: 1.3\n",
      "Succ Conv: 61\n",
      "Succ Conv %: 0.33516483516483514\n",
      "Yds/SC: 5.180327868852459\n",
      "SC/Drive: 0.4357142857142857\n",
      "\n",
      "---\n",
      "\n",
      "Defensive Conv Down Stats for Georgia Tech\n",
      "Conv Downs: 197\n",
      "Yds/CV: 6.350253807106599\n",
      "Conv Down %: 0.23368920521945433\n",
      "Conv/Drive: 1.4592592592592593\n",
      "Succ Conv: 97\n",
      "Succ Conv %: 0.49238578680203043\n",
      "Yds/SC: 4.721649484536083\n",
      "SC/Drive: 0.7185185185185186\n"
     ]
    }
   ],
   "source": [
    "# conv_down_plays = base_pbp_data[base_pbp_data.down <= 4]\n",
    "def generate_conv_down_stats(team, offense):\n",
    "    poss = \"Offensive\" if offense else \"Defensive\"\n",
    "    print(f\"{poss} Conv Down Stats for {team}\")\n",
    "    team_off_plays = base_pbp_data[base_pbp_data.offense == team] if offense else base_pbp_data[base_pbp_data.defense == team]\n",
    "    team_conv_downs = team_off_plays[team_off_plays.down >= 3]\n",
    "    succ_conv = team_conv_downs[team_conv_downs.yards_gained >= team_conv_downs.distance]\n",
    "    team_drives = drives[drives.offense == team] if offense else drives[drives.defense == team]\n",
    "    print(f\"Conv Downs: {len(team_conv_downs)}\")\n",
    "    print(f\"Yds/CV: {verify_division(sum(team_conv_downs.distance),len(team_conv_downs))}\")\n",
    "    print(f\"Conv Down %: {verify_division(len(team_conv_downs),sum(team_drives.plays))}\")\n",
    "    print(f\"Conv/Drive: {verify_division(len(team_conv_downs),len(team_drives))}\")\n",
    "    print(f\"Succ Conv: {len(succ_conv)}\")\n",
    "    print(f\"Succ Conv %: {verify_division(len(succ_conv),len(team_conv_downs))}\")\n",
    "    print(f\"Yds/SC: {verify_division(sum(succ_conv.distance),len(succ_conv))}\")\n",
    "    print(f\"SC/Drive: {verify_division(len(succ_conv),len(team_drives))}\")\n",
    "    \n",
    "generate_conv_down_stats(selected_team, True)\n",
    "print(\"\\n---\\n\")\n",
    "generate_conv_down_stats(selected_team, False)\n",
    "    "
   ]
  },
  {
   "cell_type": "code",
   "execution_count": 113,
   "metadata": {},
   "outputs": [
    {
     "name": "stdout",
     "output_type": "stream",
     "text": [
      "Aggregate Rushing Stats\n",
      "Offensive Rush Stats for Georgia Tech\n",
      "Carries:  434\n",
      "Yards:  1915\n",
      "Yards Per Carry:  4.412442396313364\n",
      "Line Yards Per Carry:  0.23099078341013826\n",
      "Rush Success Rate:  0.3847926267281106\n",
      "Rush Opp Rate:  0.4700460829493088\n",
      "Hlt Yards Per Opp:  8.573529411764707\n",
      "Stuff Rate:  0.2534562211981567\n",
      "Rush Exp Rate:  0.08064516129032258\n",
      "\n",
      "---\n",
      "\n",
      "Defensive Rush Stats for Georgia Tech\n",
      "Carries:  528\n",
      "Yards:  2638\n",
      "Yards Per Carry:  4.996212121212121\n",
      "Line Yards Per Carry:  0.9185606060606061\n",
      "Rush Success Rate:  0.44507575757575757\n",
      "Rush Opp Rate:  0.4772727272727273\n",
      "Hlt Yards Per Opp:  8.369047619047619\n",
      "Stuff Rate:  0.17045454545454544\n",
      "Rush Exp Rate:  0.058712121212121215\n"
     ]
    }
   ],
   "source": [
    "# Rushing Stats\n",
    "rush_carries = rush_plays[\n",
    "    (~rush_plays.play_type.isin(['Fumble Recovery (Opponent)','Fumble Return Touchdown']))\n",
    "]\n",
    "\n",
    "print(\"Aggregate Rushing Stats\")\n",
    "def generate_rush_stats(team, offense):\n",
    "    selected_team_carries = rush_carries[(rush_carries.offense == team)] if offense else rush_carries[(rush_carries.defense == team)]\n",
    "    selected_team_rush_opps = selected_team_carries[selected_team_carries.yards_gained >= 4]\n",
    "    selected_team_rush_stuffs = selected_team_carries[selected_team_carries.yards_gained <= 0]\n",
    "    poss = \"Offensive\" if offense else \"Defensive\"\n",
    "    print(f\"{poss} Rush Stats for {team}\")\n",
    "    print(\"Carries: \",len(selected_team_carries))\n",
    "    print(\"Yards: \", sum(selected_team_carries.yards_gained))\n",
    "    print(\"Yards Per Carry: \", verify_division(sum(selected_team_carries.yards_gained), len(selected_team_carries)))\n",
    "    print(\"Line Yards Per Carry: \", verify_division(sum(selected_team_carries.line_yards), len(selected_team_carries)))\n",
    "    print(\"Rush Success Rate: \", verify_division(len(selected_team_carries[selected_team_carries.play_successful == True]), len(selected_team_carries)))\n",
    "    print(\"Rush Opp Rate: \", verify_division(len(selected_team_rush_opps), len(selected_team_carries)))\n",
    "    print(\"Hlt Yards Per Opp: \", verify_division(sum(selected_team_rush_opps.highlight_yards), len(selected_team_rush_opps)))\n",
    "    print(\"Stuff Rate: \", verify_division(len(selected_team_rush_stuffs), len(selected_team_carries)))\n",
    "    print(\"Rush Exp Rate: \", verify_division(len(selected_team_carries[selected_team_carries.play_explosive == True]), len(selected_team_carries)))\n",
    "    \n",
    "generate_rush_stats(selected_team, True)\n",
    "print(\"\\n---\\n\")\n",
    "generate_rush_stats(selected_team, False)"
   ]
  },
  {
   "cell_type": "code",
   "execution_count": 122,
   "metadata": {},
   "outputs": [
    {
     "name": "stdout",
     "output_type": "stream",
     "text": [
      "Defensive Havoc Stats for Georgia Tech\n",
      "TFL: 71\n",
      "Sacks: 15\n",
      "PBU: 26\n",
      "FF: 5\n",
      "Havoc Rate: 0.11737629459148446\n",
      "\n",
      "---\n",
      "\n",
      "Offensive Havoc Stats for Georgia Tech\n",
      "TFL: 89\n",
      "Sacks: 23\n",
      "PBU: 15\n",
      "FF: 8\n",
      "Havoc Rate: 0.15620641562064155\n"
     ]
    }
   ],
   "source": [
    "def calculate_havoc_stats(team, offense):\n",
    "    selected_team_plays = base_pbp_data[(base_pbp_data.offense == team)] if offense else base_pbp_data[(base_pbp_data.defense == team)]\n",
    "    poss = \"Offensive\" if offense else \"Defensive\"\n",
    "    print(f\"{poss} Havoc Stats for {team}\")\n",
    "    selected_team_tfl = selected_team_plays[(selected_team_plays.yards_gained < 0) & ~(selected_team_plays.play_text.str.lower().str.contains('penalty'))]\n",
    "    selected_team_sacks = selected_team_plays[(selected_team_plays.play_type.str.contains('Sack'))]\n",
    "    selected_team_pbu = selected_team_plays[((selected_team_plays.play_type == 'Pass Incompletion')\n",
    "    & (selected_team_plays.play_text.str.contains('broken up', regex=False))) ]\n",
    "    selected_team_ff = selected_team_plays[(selected_team_plays.play_type == 'Fumble Recovery (Opponent)')]\n",
    "    print(f\"TFL: {len(selected_team_tfl)}\")\n",
    "    print(f\"Sacks: {len(selected_team_sacks)}\")\n",
    "    print(f\"PBU: {len(selected_team_pbu)}\")\n",
    "    print(f\"FF: {len(selected_team_ff)}\")\n",
    "    print(f\"Havoc Rate: {verify_division(len(selected_team_tfl) + len(selected_team_pbu) + len(selected_team_ff), len(selected_team_plays))}\")\n",
    "    \n",
    "calculate_havoc_stats(selected_team, False)\n",
    "print(\"\\n---\\n\")\n",
    "calculate_havoc_stats(selected_team, True)"
   ]
  },
  {
   "cell_type": "code",
   "execution_count": null,
   "metadata": {},
   "outputs": [],
   "source": [
    "##### \n",
    "def generate_passing_lines(downs, team, offense):\n",
    "    team_downs = downs[downs.offense == team] if offense else downs[downs.defense == team]\n",
    "    poss = \"Offensive\" if offense else \"Defensive\"\n",
    "    print(f\"{poss} Passing Line for {team}\")\n",
    "    team_passes = team_downs[(team_downs.play_type == 'Pass Reception')\n",
    "    | (team_downs.play_type == 'Passing Touchdown')\n",
    "    | (team_downs.play_type == 'Pass Incompletion')\n",
    "    | (team_downs.play_type.str.contains('Interception'))]\n",
    "    team_completions = team_passes[(team_passes.play_type == \"Pass Reception\") | (team_passes.play_type == \"Passing Touchdown\")]\n",
    "    team_sacks = team_downs[team_downs.play_type.str.lower().str.contains('sack')]\n",
    "    print(\"Comp:\",len(team_completions))\n",
    "    print(\"Att:\",len(team_passes))\n",
    "    print(\"Yards:\",sum(team_completions.yards_gained))\n",
    "    print(\"INT:\",len(team_passes[team_passes.play_type.str.contains('Interception')]))\n",
    "    print(\"Sacks:\",len(team_sacks))\n",
    "    print(\"Sack Yds:\",sum(team_sacks.yards_gained))\n",
    "    print(\"Pass Exp%:\", verify_division(len(team_passes[team_passes.play_explosive == True]), len(team_passes)))\n",
    "    \n",
    "print(\"Overall\")\n",
    "generate_passing_lines(base_pbp_data, selected_team, True)\n",
    "print(\"\\n---\\n\")\n",
    "generate_passing_lines(base_pbp_data, selected_team, False)\n",
    "print(\"\")\n",
    "\n",
    "print(\"Standard Downs\")\n",
    "generate_passing_lines(standard_downs, selected_team, True)\n",
    "print(\"\\n---\\n\")\n",
    "generate_passing_lines(standard_downs, selected_team, False)\n",
    "print(\"\")\n",
    "\n",
    "print(\"Passing Downs\")\n",
    "generate_passing_lines(passing_downs, selected_team, True)\n",
    "print(\"\\n---\\n\")\n",
    "generate_passing_lines(passing_downs, selected_team, False)"
   ]
  },
  {
   "cell_type": "code",
   "execution_count": 156,
   "metadata": {},
   "outputs": [
    {
     "name": "stdout",
     "output_type": "stream",
     "text": [
      "Havoc Portion for Georgia Tech's DL Unit: 0.13513513513513514 (15/111)\n",
      "Havoc Portion for Georgia Tech's LB Unit: 0.15315315315315314 (17/111)\n",
      "Havoc Portion for Georgia Tech's DB Unit: 0.10810810810810811 (12/111)\n"
     ]
    }
   ],
   "source": [
    "roster = pd.read_json(\"https://api.collegefootballdata.com/player/search?searchTerm=%20&team=georgia%20tech\")\n",
    "# roster\n",
    "\n",
    "def generate_position_usage(plays, position, team):\n",
    "    players = roster[roster.position == position]\n",
    "    initials = []\n",
    "    for indx, p in players.iterrows():\n",
    "        initials.append(f\"{p['firstName'][0]}\\. {p['lastName']}\")\n",
    "    initl_join = \"|\".join(initials)\n",
    "    regex_join = \"|\".join(players.name)\n",
    "    comb_join = f\"{initl_join}|{regex_join}\"\n",
    "    usg = plays[(plays.play_text.str.contains(comb_join, regex=True))]\n",
    "    return usg\n",
    "    \n",
    "def calculate_havoc_portion(position, team):\n",
    "    havoc_total = base_pbp_data[\n",
    "        (base_pbp_data.defense == team)\n",
    "        &\n",
    "        (((base_pbp_data.play_type == 'Pass Incompletion')\n",
    "        & (base_pbp_data.play_text.str.contains('broken up', regex=False)))\n",
    "        | (base_pbp_data.play_type == 'Fumble Recovery (Opponent)')\n",
    "        | (base_pbp_data.play_type == 'Sack')\n",
    "        | (base_pbp_data.play_type.str.contains('Interception', regex=False))\n",
    "        | (base_pbp_data.yards_gained < 0))\n",
    "        & (base_pbp_data.play_type != 'Penalty')\n",
    "    ]\n",
    "    pos_usg = generate_position_usage(havoc_total, position, team)\n",
    "    print(f\"Havoc Portion for {team}'s {position} Unit: {verify_division(len(pos_usg),len(havoc_total))} ({len(pos_usg)}/{len(havoc_total)})\")\n",
    "    \n",
    "calculate_havoc_portion('DL','Georgia Tech')\n",
    "calculate_havoc_portion('LB','Georgia Tech')\n",
    "calculate_havoc_portion('DB','Georgia Tech')"
   ]
  },
  {
   "cell_type": "code",
   "execution_count": null,
   "metadata": {},
   "outputs": [],
   "source": []
  }
 ],
 "metadata": {
  "kernelspec": {
   "display_name": "Python 3",
   "language": "python",
   "name": "python3"
  },
  "language_info": {
   "codemirror_mode": {
    "name": "ipython",
    "version": 3
   },
   "file_extension": ".py",
   "mimetype": "text/x-python",
   "name": "python",
   "nbconvert_exporter": "python",
   "pygments_lexer": "ipython3",
   "version": "3.7.3"
  }
 },
 "nbformat": 4,
 "nbformat_minor": 2
}
