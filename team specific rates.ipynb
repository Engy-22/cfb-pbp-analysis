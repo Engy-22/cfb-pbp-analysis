{
 "cells": [
  {
   "cell_type": "markdown",
   "metadata": {},
   "source": [
    "## Team Stat Calculations\n",
    "Author: Akshay Easwaran <akeaswaran@me.com>\n",
    "\n",
    "---\n",
    "Based on work by ESPN's Bill Connelly, Football Outsiders, and Football Study Hall\n",
    "\n",
    "Data from CollegeFootballData.com\n",
    "\n",
    "Useful Resources for Stat Definitions:\n",
    "- Football Study Hall website: https://www.footballstudyhall.com/\n",
    "- Football Study Hall book: https://www.amazon.com/Study-Hall-College-Football-Stories/dp/1484989961\n",
    "- Football Outsiders: https://www.footballoutsiders.com/info/glossary\n",
    "- Example Advanced Box Score: https://twitter.com/ESPN_BillC/status/1176572006969597954/photo/1"
   ]
  },
  {
   "cell_type": "markdown",
   "metadata": {},
   "source": [
    "**How to use this Notebook**\n",
    "\n",
    "1. Dump a team's play by play data, game data, and drive data from CollegeFootballData.com.\n",
    "2. Change the file names in the next cell to match where your data files are located.\n",
    "3. Change the away and home team names appropriately.\n",
    "4. Hit Cell > Run All Cells."
   ]
  },
  {
   "cell_type": "code",
   "execution_count": 2,
   "metadata": {},
   "outputs": [],
   "source": [
    "import pandas as pd\n",
    "\n",
    "pbp_data = pd.read_json('data/pbp/pbp-data-gatech.json')\n",
    "# pbp_data.info()\n",
    "\n",
    "base_drives = pd.read_json('data/drives/drive-data-gatech.json')\n",
    "base_drives.drop(['offense_conference','start_time','end_time','defense_conference','elapsed','start_period','end_period'], axis = 1, inplace=True) \n",
    "base_drives = base_drives[\n",
    "    ~base_drives.drive_result.isin(['END OF HALF','END OF GAME','Uncategorized'])\n",
    "]\n",
    "\n",
    "games = pd.read_json('data/games/game-data-gatech.json')\n",
    "\n",
    "selected_team = 'Georgia Tech'"
   ]
  },
  {
   "cell_type": "code",
   "execution_count": 3,
   "metadata": {},
   "outputs": [
    {
     "name": "stdout",
     "output_type": "stream",
     "text": [
      "Total Drives: 114\n"
     ]
    }
   ],
   "source": [
    "# Data Cleaning\n",
    "# Fix the bad yard line markers for away teams\n",
    "drives = pd.merge(base_drives, games[['id','away_team','home_team']], left_on='game_id', right_on='id', how='right')\n",
    "drives.rename(columns={'id_x':'drive_id'}, inplace=True)\n",
    "drives.drop(['id_y'], axis = 1, inplace=True)\n",
    "drives.dropna(inplace=True)\n",
    "drives.loc[\n",
    "    drives.offense == drives.away_team, ['start_yardline']\n",
    "] = 100 - drives.start_yardline\n",
    "drives.loc[\n",
    "    drives.offense == drives.away_team, ['end_yardline']\n",
    "] = 100 - drives.end_yardline\n",
    "\n",
    "print(\"Total Drives:\", len(drives))\n",
    "# drives"
   ]
  },
  {
   "cell_type": "code",
   "execution_count": 4,
   "metadata": {},
   "outputs": [
    {
     "name": "stdout",
     "output_type": "stream",
     "text": [
      "Total Plays: 880\n",
      "Garbage Time Plays: 144\n",
      "Non-Garbage Time Plays: 736\n",
      "Total clean plays: 572\n"
     ]
    }
   ],
   "source": [
    "# Eliminate garbage time plays\n",
    "garbage_time_data = pbp_data[\n",
    "    (pbp_data.down == 0)\n",
    "    | ((abs(pbp_data.offense_score - pbp_data.defense_score) >= 38) & (pbp_data.period == 2))\n",
    "    | ((abs(pbp_data.offense_score - pbp_data.defense_score) >= 28) & (pbp_data.period == 3))\n",
    "    | ((abs(pbp_data.offense_score - pbp_data.defense_score) >= 22) & (pbp_data.period == 4))\n",
    "]\n",
    "\n",
    "print(\"Total Plays:\", len(pbp_data))\n",
    "print(\"Garbage Time Plays:\", len(garbage_time_data))\n",
    "pbp_data.drop(garbage_time_data.index, inplace=True)\n",
    "print(\"Non-Garbage Time Plays:\", len(pbp_data))\n",
    "\n",
    "# Drop some unnecessary columns\n",
    "pbp_data.drop(['offense_conference','defense_conference','clock'], axis = 1, inplace=True) \n",
    "# Ignore some types of plays cause they're special teams and weird\n",
    "ignore_types = [\"Defensive 2pt Conversion\",\"Blocked Field Goal\",\"Blocked Punt\",\"Missed Field Goal Return\",\"Blocked Punt Touchdown\",\"Missed Field Goal Return Touchdown\",\"Extra Point Missed\",\"Extra Point Good\",\"Timeout\",\"End of Half\",\"End of Game\",\"Uncategorized\",\"Penalty\",\"Kickoff\",\"Kickoff Return (Offense)\",\"Kickoff Return Touchdown\",\"Punt\", \"Field Goal Good\",\"Field Goal Missed\",\"Safety\"]\n",
    "pbp_data = pbp_data[~(pbp_data.play_type.isin(ignore_types))]\n",
    "print(\"Total clean plays:\", len(pbp_data))"
   ]
  },
  {
   "cell_type": "code",
   "execution_count": 5,
   "metadata": {},
   "outputs": [],
   "source": [
    "import numpy as np\n",
    "\n",
    "pbp_data.distance = pbp_data.distance.astype(float)\n",
    "\n",
    "bad_types = [\"Interception\",\"Pass Interception Return\",\"Interception Return Touchdown\",'Fumble Recovery (Opponent)','Sack','Fumble Return Touchdown']\n",
    "\n",
    "def is_successful(down, distance, yards_gained, play_type):\n",
    "    if (play_type in bad_types):\n",
    "        return False \n",
    "    if ((down == 1) & (yards_gained >= (0.5 * distance))):\n",
    "        return True\n",
    "    elif ((down == 2)) & (yards_gained >= (0.7 * distance)):\n",
    "        return True\n",
    "    elif (((down == 3) | (down == 4)) & (yards_gained >= distance)):\n",
    "        return True\n",
    "    else:\n",
    "        return False\n",
    "    \n",
    "pbp_data['play_successful'] = np.vectorize(is_successful)(pbp_data.down, pbp_data.distance, pbp_data.yards_gained, pbp_data.play_type)\n",
    "pbp_data.play_successful.value_counts()\n",
    "\n",
    "def is_explosive(yards_gained):\n",
    "    if (yards_gained >= 15):\n",
    "        return True\n",
    "    else:\n",
    "        return False\n",
    "    \n",
    "pbp_data['play_explosive'] = np.vectorize(is_explosive)(pbp_data.yards_gained)"
   ]
  },
  {
   "cell_type": "code",
   "execution_count": 6,
   "metadata": {},
   "outputs": [
    {
     "name": "stdout",
     "output_type": "stream",
     "text": [
      "Offensive Success Rates\n",
      "Georgia Tech\n",
      "Overall: 0.3794466403162055\n",
      "Passing: 0.3488372093023256\n",
      "Rushing: 0.3939393939393939\n",
      "\n",
      "Success Rates Allowed\n",
      "Georgia Tech\n",
      "Overall: 0.4043887147335423\n",
      "Passing: 0.4049586776859504\n",
      "Rushing: 0.41450777202072536\n"
     ]
    }
   ],
   "source": [
    "pass_types = [\"Pass Reception\",\"Pass Incompletion\",\"Passing Touchdown\",\"Interception\",\"Pass Interception Return\",\"Interception Return Touchdown\"]\n",
    "rush_types = [\"Rush\",\"Rushing Touchdown\",'Fumble Recovery (Opponent)','Sack','Fumble Return Touchdown']\n",
    "\n",
    "print(\"Offensive Success Rates\")\n",
    "print(selected_team)\n",
    "print(\"Overall:\",len(pbp_data[(pbp_data.offense == selected_team) & (pbp_data.play_successful == True)]) / len(pbp_data[(pbp_data.offense == selected_team)]))\n",
    "print(\"Passing:\",len(pbp_data[(pbp_data.offense == selected_team) & (pbp_data.play_successful == True) & (pbp_data.play_type.isin(pass_types))]) / len(pbp_data[(pbp_data.offense == selected_team) & (pbp_data.play_type.isin(pass_types))]))\n",
    "print(\"Rushing:\",len(pbp_data[(pbp_data.offense == selected_team) & (pbp_data.play_successful == True) & (pbp_data.play_type.isin(rush_types))]) / len(pbp_data[(pbp_data.offense == selected_team) & (pbp_data.play_type.isin(rush_types))]))\n",
    "print(\"\")\n",
    "print(\"Success Rates Allowed\")\n",
    "print(selected_team)\n",
    "print(\"Overall:\",len(pbp_data[(pbp_data.defense == selected_team) & (pbp_data.play_successful == True)]) / len(pbp_data[(pbp_data.defense == selected_team)]))\n",
    "print(\"Passing:\",len(pbp_data[(pbp_data.defense == selected_team) & (pbp_data.play_successful == True) & (pbp_data.play_type.isin(pass_types))]) / len(pbp_data[(pbp_data.defense == selected_team) & (pbp_data.play_type.isin(pass_types))]))\n",
    "print(\"Rushing:\",len(pbp_data[(pbp_data.defense == selected_team) & (pbp_data.play_successful == True) & (pbp_data.play_type.isin(rush_types))]) / len(pbp_data[(pbp_data.defense == selected_team) & (pbp_data.play_type.isin(rush_types))]))"
   ]
  },
  {
   "cell_type": "code",
   "execution_count": 7,
   "metadata": {},
   "outputs": [
    {
     "name": "stdout",
     "output_type": "stream",
     "text": [
      "Success Rates on Specific Downs (Off/Allowed)\n",
      "Georgia Tech\n",
      "Down 1: 0.41964285714285715 / 0.362962962962963\n",
      "Down 2: 0.3902439024390244 / 0.3888888888888889\n",
      "Down 3: 0.2962962962962963 / 0.45714285714285713\n",
      "Down 4: 0.2 / 1.0\n"
     ]
    }
   ],
   "source": [
    "downs = [1, 2, 3, 4]\n",
    "print(\"Success Rates on Specific Downs (Off/Allowed)\")\n",
    "print(selected_team)\n",
    "for d in downs:\n",
    "    intermed = pbp_data[\n",
    "        (pbp_data.down == d)\n",
    "    ]\n",
    "    print(f\"Down {d}: {len(intermed[(intermed.play_successful == True) & (intermed.offense == selected_team)]) / len(intermed[(intermed.offense == selected_team)])} / {len(intermed[(intermed.play_successful == True) & (intermed.defense == selected_team)]) / len(intermed[(intermed.defense == selected_team)])}\")"
   ]
  },
  {
   "cell_type": "code",
   "execution_count": 8,
   "metadata": {},
   "outputs": [
    {
     "name": "stdout",
     "output_type": "stream",
     "text": [
      "Explosiveness Plays (Rates)\n",
      "Georgia Tech\n",
      "Overall: 27 / 253 ( 0.1067193675889328 )\n",
      "Passing: 11 / 86 ( 0.12790697674418605 )\n",
      "Rushing: 16 / 165 ( 0.09696969696969697 )\n",
      "\n",
      "Explosiveness Plays Allowed (Rates)\n",
      "Georgia Tech\n",
      "Overall: 34 / 319 ( 0.10658307210031348 )\n",
      "Passing: 22 / 121 ( 0.18181818181818182 )\n",
      "Rushing: 12 / 193 ( 0.06217616580310881 )\n"
     ]
    }
   ],
   "source": [
    "# Explosiveness rates\n",
    "# Defined as rate of 15+ yards gains\n",
    "\n",
    "print(\"Explosiveness Plays (Rates)\")\n",
    "print(selected_team)\n",
    "print(\"Overall:\",len(pbp_data[(pbp_data.offense == selected_team) & (pbp_data.play_explosive == True)]),\"/\", len(pbp_data[(pbp_data.offense == selected_team)]),\"(\",len(pbp_data[(pbp_data.offense == selected_team) & (pbp_data.play_explosive == True)]) / len(pbp_data[(pbp_data.offense == selected_team)]),\")\")\n",
    "print(\"Passing:\",len(pbp_data[(pbp_data.offense == selected_team) & (pbp_data.play_explosive == True) & (pbp_data.play_type.isin(pass_types))]),\"/\", len(pbp_data[(pbp_data.offense == selected_team) & (pbp_data.play_type.isin(pass_types))]),\"(\",len(pbp_data[(pbp_data.offense == selected_team) & (pbp_data.play_explosive == True) & (pbp_data.play_type.isin(pass_types))]) / len(pbp_data[(pbp_data.offense == selected_team) & (pbp_data.play_type.isin(pass_types))]),\")\")\n",
    "print(\"Rushing:\",len(pbp_data[(pbp_data.offense == selected_team) & (pbp_data.play_explosive == True) & (pbp_data.play_type.isin(rush_types))]),\"/\", len(pbp_data[(pbp_data.offense == selected_team) & (pbp_data.play_type.isin(rush_types))]),\"(\",len(pbp_data[(pbp_data.offense == selected_team) & (pbp_data.play_explosive == True) & (pbp_data.play_type.isin(rush_types))]) / len(pbp_data[(pbp_data.offense == selected_team) & (pbp_data.play_type.isin(rush_types))]),\")\")\n",
    "print(\"\")\n",
    "print(\"Explosiveness Plays Allowed (Rates)\")\n",
    "print(selected_team)\n",
    "print(\"Overall:\",len(pbp_data[(pbp_data.defense == selected_team) & (pbp_data.play_explosive == True)]),\"/\", len(pbp_data[(pbp_data.defense == selected_team)]),\"(\",len(pbp_data[(pbp_data.defense == selected_team) & (pbp_data.play_explosive == True)]) / len(pbp_data[(pbp_data.defense == selected_team)]),\")\")\n",
    "print(\"Passing:\",len(pbp_data[(pbp_data.defense == selected_team) & (pbp_data.play_explosive == True) & (pbp_data.play_type.isin(pass_types))]),\"/\", len(pbp_data[(pbp_data.defense == selected_team) & (pbp_data.play_type.isin(pass_types))]),\"(\",len(pbp_data[(pbp_data.defense == selected_team) & (pbp_data.play_explosive == True) & (pbp_data.play_type.isin(pass_types))]) / len(pbp_data[(pbp_data.defense == selected_team) & (pbp_data.play_type.isin(pass_types))]),\")\")\n",
    "print(\"Rushing:\",len(pbp_data[(pbp_data.defense == selected_team) & (pbp_data.play_explosive == True) & (pbp_data.play_type.isin(rush_types))]),\"/\", len(pbp_data[(pbp_data.defense == selected_team) & (pbp_data.play_type.isin(rush_types))]),\"(\",len(pbp_data[(pbp_data.defense == selected_team) & (pbp_data.play_explosive == True) & (pbp_data.play_type.isin(rush_types))]) / len(pbp_data[(pbp_data.defense == selected_team) & (pbp_data.play_type.isin(rush_types))]),\")\")"
   ]
  },
  {
   "cell_type": "code",
   "execution_count": 9,
   "metadata": {},
   "outputs": [
    {
     "name": "stdout",
     "output_type": "stream",
     "text": [
      "Georgia Tech\n",
      "Havoc Caused Rate:  45 / 319 ( 0.14106583072100312 )\n",
      "Havoc Suffered Rate:  51 / 253 ( 0.2015810276679842 )\n"
     ]
    }
   ],
   "source": [
    "# Havoc plays\n",
    "havoc_plays = pbp_data[\n",
    "    (((pbp_data.play_type == 'Pass Incompletion')\n",
    "    & (pbp_data.play_text.str.contains('broken up', regex=False)))\n",
    "    | (pbp_data.play_type == 'Fumble Recovery (Opponent)')\n",
    "    | (pbp_data.play_type == 'Sack')\n",
    "    | (pbp_data.play_type.str.contains('Interception', regex=False))\n",
    "    | (pbp_data.yards_gained < 0))\n",
    "    & (pbp_data.play_type != 'Penalty')\n",
    "]\n",
    "\n",
    "print(selected_team)\n",
    "print(\"Havoc Caused Rate: \", len(havoc_plays[\n",
    "    havoc_plays.defense == selected_team\n",
    "]), \"/\", len(pbp_data[\n",
    "    pbp_data.defense == selected_team\n",
    "]), \"(\",len(havoc_plays[\n",
    "    havoc_plays.defense == selected_team\n",
    "]) / len(pbp_data[\n",
    "    pbp_data.defense == selected_team\n",
    "]),\")\")\n",
    "print(\"Havoc Suffered Rate: \", len(havoc_plays[\n",
    "    havoc_plays.offense == selected_team\n",
    "]), \"/\", len(pbp_data[\n",
    "    pbp_data.offense == selected_team\n",
    "]), \"(\",len(havoc_plays[\n",
    "    havoc_plays.offense == selected_team\n",
    "]) / len(pbp_data[\n",
    "    pbp_data.offense == selected_team\n",
    "]),\")\")"
   ]
  },
  {
   "cell_type": "code",
   "execution_count": 10,
   "metadata": {},
   "outputs": [
    {
     "name": "stdout",
     "output_type": "stream",
     "text": [
      "Converted 3rd and 8+ for Georgia Tech : 7 of 29\n",
      "Converted 3rd and 8+ allowed by Georgia Tech : 12 of 25\n"
     ]
    }
   ],
   "source": [
    "# Calculating converted 3rd and 8+s\n",
    "ignore_turnovers = ['Fumble Recovery (Opponent)','Fumble Return Touchdown',\"Interception\",\"Pass Interception Return\",\"Interception Return Touchdown\"]\n",
    "\n",
    "third_longs = pbp_data[\n",
    "    (pbp_data.down == 3)\n",
    "    & (pbp_data.distance >= 8)\n",
    "    & (~pbp_data.play_type.isin(ignore_turnovers))\n",
    "]\n",
    "# converted_3rd_longs\n",
    "\n",
    "selected_team_thirds = third_longs[\n",
    "    (third_longs.offense == selected_team)\n",
    "]\n",
    "\n",
    "selected_team_thirds_converted = selected_team_thirds[\n",
    "    (selected_team_thirds.yards_gained >= 8)\n",
    "]\n",
    "print(\"Converted 3rd and 8+ for\", selected_team,\":\",len(selected_team_thirds_converted),\"of\",len(selected_team_thirds))\n",
    "\n",
    "home_team_thirds = third_longs[\n",
    "    (third_longs.defense == selected_team)\n",
    "]\n",
    "\n",
    "home_team_thirds_converted = home_team_thirds[\n",
    "    (home_team_thirds.yards_gained >= 8)\n",
    "]\n",
    "\n",
    "print(\"Converted 3rd and 8+ allowed by\", selected_team,\":\",len(home_team_thirds_converted),\"of\",len(home_team_thirds))"
   ]
  },
  {
   "cell_type": "code",
   "execution_count": 11,
   "metadata": {},
   "outputs": [
    {
     "name": "stdout",
     "output_type": "stream",
     "text": [
      "Georgia Tech\n",
      "Drives: 57\n",
      "Yards: 1502.0\n",
      "Plays: 295.0\n",
      "Avg Starting Field Position: 29.210526315789473\n",
      "Yards per Play: 5.091525423728814\n",
      "Plays per Drive: 5.175438596491228\n",
      "Yards per Drive: 26.350877192982455\n",
      "\n",
      "Opponents\n",
      "Drives: 57\n",
      "Yards: 1961.0\n",
      "Plays: 360.0\n",
      "Avg Starting Field Position: 30.43859649122807\n",
      "Yards per Play: 5.447222222222222\n",
      "Plays per Drive: 6.315789473684211\n",
      "Yards per Drive: 34.40350877192982\n"
     ]
    }
   ],
   "source": [
    "selected_team_drives = drives[\n",
    "    drives.offense == selected_team\n",
    "]\n",
    "print(selected_team)\n",
    "print(\"Drives:\", len(selected_team_drives))\n",
    "print(\"Yards:\",sum(selected_team_drives.yards))\n",
    "print(\"Plays:\",sum(selected_team_drives.plays))\n",
    "print(\"Avg Starting Field Position:\", selected_team_drives.start_yardline.mean())\n",
    "print(\"Yards per Play:\", sum(selected_team_drives.yards) / sum(selected_team_drives.plays))\n",
    "print(\"Plays per Drive:\", sum(selected_team_drives.plays) / len(selected_team_drives))\n",
    "print(\"Yards per Drive:\", sum(selected_team_drives.yards) / len(selected_team_drives))\n",
    "\n",
    "print(\"\")\n",
    "\n",
    "opp_team_drives = drives[\n",
    "    drives.defense == selected_team\n",
    "]\n",
    "\n",
    "print(\"Opponents\")\n",
    "print(\"Drives:\", len(opp_team_drives))\n",
    "print(\"Yards:\",sum(opp_team_drives.yards))\n",
    "print(\"Plays:\",sum(opp_team_drives.plays))\n",
    "print(\"Avg Starting Field Position:\", opp_team_drives.start_yardline.mean())\n",
    "print(\"Yards per Play:\", sum(opp_team_drives.yards) / sum(opp_team_drives.plays))\n",
    "print(\"Plays per Drive:\", sum(opp_team_drives.plays) / len(opp_team_drives))\n",
    "print(\"Yards per Drive:\", sum(opp_team_drives.yards) / len(opp_team_drives))"
   ]
  },
  {
   "cell_type": "code",
   "execution_count": 12,
   "metadata": {},
   "outputs": [],
   "source": [
    "# Measuring success rate for a single player\n",
    "# pbp_data[\n",
    "#     (pbp_data.play_text.str.contains(\"Quentin Harris\"))\n",
    "#     & (pbp_data.play_type.isin(pass_types))\n",
    "#     & (~pbp_data.play_type.str.contains(\"Sack\"))\n",
    "# ].play_successful.value_counts(normalize=True)"
   ]
  },
  {
   "cell_type": "code",
   "execution_count": 13,
   "metadata": {},
   "outputs": [],
   "source": [
    "# Standard vs Passing Downs success rates\n",
    "# Success rate on standard downs == leverage rate\n",
    "\n",
    "standard_downs = pbp_data[\n",
    "    (pbp_data.down == 1)\n",
    "    | ((pbp_data.down == 2) & (pbp_data.distance <= 7))\n",
    "    | ((pbp_data.down == 3) & (pbp_data.distance <= 4))\n",
    "    | ((pbp_data.down == 4) & (pbp_data.distance <= 4)) \n",
    "]\n",
    "\n",
    "passing_downs = pbp_data[\n",
    "    ((pbp_data.down == 2) & (pbp_data.distance >= 8))\n",
    "    | ((pbp_data.down == 3) & (pbp_data.distance >= 5))\n",
    "    | ((pbp_data.down == 4) & (pbp_data.distance >= 5)) \n",
    "]\n",
    "\n",
    "pass_plays = pbp_data[\n",
    "    pbp_data.play_type.isin(pass_types)\n",
    "]\n",
    "rush_plays = pbp_data[\n",
    "    pbp_data.play_type.isin(rush_types)\n",
    "]"
   ]
  },
  {
   "cell_type": "code",
   "execution_count": 14,
   "metadata": {},
   "outputs": [
    {
     "name": "stdout",
     "output_type": "stream",
     "text": [
      "Georgia Tech Success Rate on Std Downs: 0.46060606060606063\n",
      "Opp Success Rate on Std Downs: 0.4200913242009132\n",
      "Georgia Tech Success Rate on Passing Downs: 0.22727272727272727\n",
      "Opp Success Rate on Passing Downs: 0.37\n"
     ]
    }
   ],
   "source": [
    "print(selected_team,\"Success Rate on Std Downs:\",len(standard_downs[\n",
    "    (standard_downs.offense == selected_team)\n",
    "    & (standard_downs.play_successful == True)\n",
    "]) / len(standard_downs[\n",
    "    (standard_downs.offense == selected_team)\n",
    "]))\n",
    "print(\"Opp Success Rate on Std Downs:\",len(standard_downs[\n",
    "    (standard_downs.defense == selected_team)\n",
    "    & (standard_downs.play_successful == True)\n",
    "]) / len(standard_downs[\n",
    "    (standard_downs.defense == selected_team)\n",
    "]))\n",
    "\n",
    "print(selected_team,\"Success Rate on Passing Downs:\",len(passing_downs[\n",
    "    (passing_downs.offense == selected_team)\n",
    "    & (passing_downs.play_successful == True)\n",
    "]) / len(passing_downs[\n",
    "    (passing_downs.offense == selected_team)\n",
    "]))\n",
    "\n",
    "print(\"Opp Success Rate on Passing Downs:\",len(passing_downs[\n",
    "    (passing_downs.defense == selected_team)\n",
    "    & (passing_downs.play_successful == True)\n",
    "]) / len(passing_downs[\n",
    "    (passing_downs.defense == selected_team)\n",
    "]))"
   ]
  },
  {
   "cell_type": "code",
   "execution_count": 15,
   "metadata": {},
   "outputs": [],
   "source": [
    "# Stuff Rate\n",
    "stuffed_plays = rush_plays[\n",
    "    (rush_plays.yards_gained <= 0)\n",
    "    & (rush_plays.play_type != 'Sack')\n",
    "]"
   ]
  },
  {
   "cell_type": "code",
   "execution_count": 16,
   "metadata": {},
   "outputs": [
    {
     "name": "stdout",
     "output_type": "stream",
     "text": [
      "Georgia Tech Defensive Stuff Rate:  31 / 193 ( 0.16062176165803108 )\n",
      "Georgia Tech Defensive Stuffs Suffered Rate:  41 / 165 ( 0.24848484848484848 )\n"
     ]
    }
   ],
   "source": [
    "selected_team_stuffs = stuffed_plays[\n",
    "    stuffed_plays.defense == selected_team\n",
    "]\n",
    "print(selected_team,\"Defensive Stuff Rate: \",len(selected_team_stuffs),\"/\",len(rush_plays[rush_plays.defense == selected_team]),\"(\",len(selected_team_stuffs)/len(rush_plays[rush_plays.defense == selected_team]),\")\")\n",
    "print(selected_team,\"Defensive Stuffs Suffered Rate: \",len(stuffed_plays[\n",
    "    stuffed_plays.offense == selected_team\n",
    "]),\"/\",len(rush_plays[rush_plays.offense == selected_team]),\"(\",len(stuffed_plays[\n",
    "    stuffed_plays.offense == selected_team\n",
    "])/len(rush_plays[rush_plays.offense == selected_team]),\")\")\n"
   ]
  },
  {
   "cell_type": "code",
   "execution_count": 21,
   "metadata": {},
   "outputs": [
    {
     "name": "stdout",
     "output_type": "stream",
     "text": [
      "Georgia Tech Rush Opp Rate:  62 / 165 ( 0.37575757575757573 )\n",
      "Georgia Tech Rush Opp Allowed Rate:  73 / 193 ( 0.37823834196891193 )\n"
     ]
    }
   ],
   "source": [
    "# Opportunity Rate\n",
    "rush_opps = rush_plays[\n",
    "    (rush_plays.yards_gained >= 5)\n",
    "]\n",
    "print(selected_team,\"Rush Opp Rate: \",len(rush_opps[rush_opps.offense == selected_team]),\"/\",len(rush_plays[rush_plays.offense == selected_team]),\"(\",len(rush_opps[rush_opps.offense == selected_team])/len(rush_plays[rush_plays.offense == selected_team]),\")\")\n",
    "print(selected_team,\"Rush Opp Allowed Rate: \",len(rush_opps[rush_opps.defense == selected_team]),\"/\",len(rush_plays[rush_plays.defense == selected_team]),\"(\",len(rush_opps[rush_opps.defense == selected_team])/len(rush_plays[rush_plays.defense == selected_team]),\")\")"
   ]
  },
  {
   "cell_type": "code",
   "execution_count": 22,
   "metadata": {},
   "outputs": [
    {
     "name": "stdout",
     "output_type": "stream",
     "text": [
      "Georgia Tech Line Yards per Carry: 4.642424242424243\n",
      "Georgia Tech Highlight Yards per Carry: 0.19393939393939394\n",
      "Georgia Tech Yards per Carry: 4.836363636363636\n",
      "\n",
      "Opp Line Yards per Carry: 5.25\n",
      "Opp Highlight Yards per Carry: 0.06606217616580311\n",
      "Opp Yards per Carry: 5.316062176165803\n"
     ]
    },
    {
     "name": "stderr",
     "output_type": "stream",
     "text": [
      "/Users/akeaswaran/anaconda3/lib/python3.7/site-packages/ipykernel_launcher.py:12: SettingWithCopyWarning: \n",
      "A value is trying to be set on a copy of a slice from a DataFrame.\n",
      "Try using .loc[row_indexer,col_indexer] = value instead\n",
      "\n",
      "See the caveats in the documentation: http://pandas.pydata.org/pandas-docs/stable/indexing.html#indexing-view-versus-copy\n",
      "  if sys.path[0] == '':\n",
      "/Users/akeaswaran/anaconda3/lib/python3.7/site-packages/ipykernel_launcher.py:13: SettingWithCopyWarning: \n",
      "A value is trying to be set on a copy of a slice from a DataFrame.\n",
      "Try using .loc[row_indexer,col_indexer] = value instead\n",
      "\n",
      "See the caveats in the documentation: http://pandas.pydata.org/pandas-docs/stable/indexing.html#indexing-view-versus-copy\n",
      "  del sys.path[0]\n"
     ]
    }
   ],
   "source": [
    "# Line Yards -- not adjusted for down/distance/opponent/shotgun\n",
    "def adjust_strength_for_ol(yards_gained):\n",
    "    if (yards_gained < 0):\n",
    "        return yards_gained * 1.25\n",
    "    elif (yards_gained >= 0 & yards_gained <= 3):\n",
    "        return yards_gained * 1.0\n",
    "    elif (yards_gained >= 4 & yards_gained <= 6):\n",
    "        return yards_gained * 0.5\n",
    "    else:\n",
    "        return 0\n",
    "\n",
    "rush_plays['line_yards'] = rush_plays.apply(lambda x: adjust_strength_for_ol(x.yards_gained), axis=1)\n",
    "rush_plays['highlight_yards'] = rush_plays.apply(lambda x: x.yards_gained - adjust_strength_for_ol(x.yards_gained), axis=1)\n",
    "print(selected_team,\"Line Yards per Carry:\",sum(rush_plays[rush_plays.offense == selected_team].line_yards) / len(rush_plays[rush_plays.offense == selected_team]))\n",
    "print(selected_team,\"Highlight Yards per Carry:\",sum(rush_plays[rush_plays.offense == selected_team].highlight_yards) / len(rush_plays[rush_plays.offense == selected_team]))\n",
    "print(selected_team,\"Yards per Carry:\",sum(rush_plays[rush_plays.offense == selected_team].yards_gained) / len(rush_plays[rush_plays.offense == selected_team]))\n",
    "\n",
    "print(\"\")\n",
    "\n",
    "print(\"Opp Line Yards per Carry:\",sum(rush_plays[rush_plays.defense == selected_team].line_yards) / len(rush_plays[rush_plays.defense == selected_team]))\n",
    "print(\"Opp Highlight Yards per Carry:\",sum(rush_plays[rush_plays.defense == selected_team].highlight_yards) / len(rush_plays[rush_plays.defense == selected_team]))\n",
    "print(\"Opp Yards per Carry:\",sum(rush_plays[rush_plays.defense == selected_team].yards_gained) / len(rush_plays[rush_plays.defense == selected_team]))"
   ]
  },
  {
   "cell_type": "code",
   "execution_count": 19,
   "metadata": {},
   "outputs": [
    {
     "name": "stdout",
     "output_type": "stream",
     "text": [
      "Georgia Tech\n",
      "Def INTs: 5\n",
      "Off INTs: 4\n",
      "PDs: 15\n",
      "Exp INTs: 3.15\n",
      "Fum Recovered: 2\n",
      "Fum Lost: 4\n",
      "Exp Fum: 6.5\n",
      "Actual TO: 8\n",
      "Actual TO Margin: -1\n",
      "Exp TO: 9.65\n"
     ]
    }
   ],
   "source": [
    "# Expected and Adjusted Turnover Margins\n",
    "\n",
    "adj_turnover_plays = pbp_data[\n",
    "    (pbp_data.play_type.str.contains('Interception', regex=False))\n",
    "    | ((pbp_data.play_type == 'Pass Incompletion')\n",
    "    & (pbp_data.play_text.str.contains('broken up', regex=False)))\n",
    "    | (pbp_data.play_type.str.contains('Fumble', regex=False))\n",
    "]\n",
    "\n",
    "adj_fum = 0.5 * len(adj_turnover_plays[\n",
    "    (adj_turnover_plays.play_type.str.contains('Fumble', regex=False))\n",
    "])\n",
    "\n",
    "# selected_team Adj Turnovers\n",
    "selected_team_tos = adj_turnover_plays[\n",
    "    (adj_turnover_plays.offense == selected_team)\n",
    "    | (adj_turnover_plays.defense == selected_team)\n",
    "]\n",
    "print(selected_team)\n",
    "selected_team_ints_def = len(selected_team_tos[\n",
    "   (selected_team_tos.play_type.str.contains('Interception', regex=False))\n",
    "    & (selected_team_tos.defense == selected_team)\n",
    "])\n",
    "\n",
    "selected_team_ints_off = len(selected_team_tos[\n",
    "   (selected_team_tos.play_type.str.contains('Interception', regex=False))\n",
    "    & (selected_team_tos.offense == selected_team)\n",
    "])\n",
    "\n",
    "selected_team_pds = len(selected_team_tos[\n",
    "    (((selected_team_tos.play_type == 'Pass Incompletion')\n",
    "    & (selected_team_tos.play_text.str.contains('broken up', regex=False))) | (selected_team_tos.play_type.str.contains('Interception', regex=False)))\n",
    "    & (selected_team_tos.defense == selected_team)\n",
    "])\n",
    "\n",
    "selected_team_fum_rec = selected_team_tos[(selected_team_tos.play_type == 'Fumble Recovery (Opponent)') & (selected_team_tos.defense == selected_team)]\n",
    "selected_team_fum_lost = selected_team_tos[(selected_team_tos.play_type == 'Fumble Recovery (Opponent)') & (selected_team_tos.offense == selected_team)]\n",
    "\n",
    "print(\"Def INTs:\",selected_team_ints_def)\n",
    "print(\"Off INTs:\",selected_team_ints_off)\n",
    "print(\"PDs:\",selected_team_pds)\n",
    "print(\"Exp INTs:\",0.21 * selected_team_pds)\n",
    "print(\"Fum Recovered:\",len(selected_team_fum_rec))\n",
    "print(\"Fum Lost:\",len(selected_team_fum_lost))\n",
    "print(\"Exp Fum:\",adj_fum)\n",
    "print(\"Actual TO:\",selected_team_ints_off + len(selected_team_fum_lost))\n",
    "print(\"Actual TO Margin:\",(selected_team_ints_def + len(selected_team_fum_rec) - selected_team_ints_off) - len(selected_team_fum_lost))\n",
    "selected_team_exp_to = 0.21 * selected_team_pds + adj_fum\n",
    "print(\"Exp TO:\",selected_team_exp_to)"
   ]
  },
  {
   "cell_type": "code",
   "execution_count": 20,
   "metadata": {},
   "outputs": [
    {
     "name": "stdout",
     "output_type": "stream",
     "text": [
      "TO Luck for Georgia Tech : -1.6500000000000004\n",
      "TO Luck/gm for Georgia Tech : -0.13750000000000004\n"
     ]
    }
   ],
   "source": [
    "to_luck = (selected_team_ints_off + len(selected_team_fum_lost) - selected_team_exp_to)\n",
    "print(\"TO Luck for\",selected_team,\":\",to_luck)\n",
    "print(\"TO Luck/gm for\",selected_team,\":\",(to_luck / len(games.notna())))"
   ]
  },
  {
   "cell_type": "code",
   "execution_count": null,
   "metadata": {},
   "outputs": [],
   "source": []
  }
 ],
 "metadata": {
  "kernelspec": {
   "display_name": "Python 3",
   "language": "python",
   "name": "python3"
  },
  "language_info": {
   "codemirror_mode": {
    "name": "ipython",
    "version": 3
   },
   "file_extension": ".py",
   "mimetype": "text/x-python",
   "name": "python",
   "nbconvert_exporter": "python",
   "pygments_lexer": "ipython3",
   "version": "3.7.3"
  }
 },
 "nbformat": 4,
 "nbformat_minor": 2
}
