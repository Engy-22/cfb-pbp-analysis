{
 "cells": [
  {
   "cell_type": "markdown",
   "metadata": {},
   "source": [
    "## Advanced Box Score Calculations\n",
    "Author: Akshay Easwaran <akeaswaran@me.com>\n",
    "\n",
    "---\n",
    "Based on work by ESPN's Bill Connelly, Football Outsiders, and Football Study Hall\n",
    "\n",
    "Data from CollegeFootballData.com\n",
    "\n",
    "Useful Resources for Stat Definitions:\n",
    "- Football Study Hall website: https://www.footballstudyhall.com/\n",
    "- Football Study Hall book: https://www.amazon.com/Study-Hall-College-Football-Stories/dp/1484989961\n",
    "- Football Outsiders: https://www.footballoutsiders.com/info/glossary\n",
    "- Example Advanced Box Score: https://twitter.com/ESPN_BillC/status/1176572006969597954/photo/1"
   ]
  },
  {
   "cell_type": "markdown",
   "metadata": {},
   "source": [
    "**How to use this Notebook**\n",
    "\n",
    "1. Dump a game's play by play data and drive data from CollegeFootballData.com.\n",
    "2. Change the file names in the next cell to match where your data files are located.\n",
    "3. Change the away and home team names appropriately.\n",
    "4. Hit Cell > Run All Cells."
   ]
  },
  {
   "cell_type": "code",
   "execution_count": 257,
   "metadata": {},
   "outputs": [],
   "source": [
    "import pandas as pd\n",
    "\n",
    "pbp_data = pd.read_json('data/pbp/pbp-data-pitt-duke.json')\n",
    "# pbp_data.info()\n",
    "\n",
    "drives = pd.read_json('data/drives/drive-data-pitt-duke.json')\n",
    "drives.drop(['offense_conference','start_time','end_time','defense_conference','elapsed','game_id'], axis = 1, inplace=True) \n",
    "drives = drives[\n",
    "    ~drives.drive_result.isin(['END OF HALF','END OF GAME'])\n",
    "]\n",
    "\n",
    "away_team = 'Pittsburgh'\n",
    "home_team = 'Duke'"
   ]
  },
  {
   "cell_type": "code",
   "execution_count": 258,
   "metadata": {},
   "outputs": [
    {
     "name": "stdout",
     "output_type": "stream",
     "text": [
      "Total Drives: 37\n",
      "Total Plays: 223\n",
      "Garbage Time Plays: 3\n",
      "Non-Garbage Time Plays: 220\n",
      "Total clean plays: 172\n"
     ]
    }
   ],
   "source": [
    "# Data Cleaning\n",
    "# Fix the bad yard line markers for away teams\n",
    "drives.loc[\n",
    "    drives.offense == away_team, ['start_yardline']\n",
    "] = 100 - drives.start_yardline\n",
    "drives.loc[\n",
    "    drives.offense == away_team, ['end_yardline']\n",
    "] = 100 - drives.end_yardline\n",
    "\n",
    "print(\"Total Drives:\", len(drives))\n",
    "\n",
    "# Eliminate garbage time plays\n",
    "garbage_time_data = pbp_data[\n",
    "    (pbp_data.down == 0)\n",
    "    | ((abs(pbp_data.offense_score - pbp_data.defense_score) >= 38) & (pbp_data.period == 2))\n",
    "    | ((abs(pbp_data.offense_score - pbp_data.defense_score) >= 28) & (pbp_data.period == 3))\n",
    "    | ((abs(pbp_data.offense_score - pbp_data.defense_score) >= 22) & (pbp_data.period == 4))\n",
    "]\n",
    "\n",
    "print(\"Total Plays:\", len(pbp_data))\n",
    "print(\"Garbage Time Plays:\", len(garbage_time_data))\n",
    "pbp_data.drop(garbage_time_data.index, inplace=True)\n",
    "print(\"Non-Garbage Time Plays:\", len(pbp_data))\n",
    "\n",
    "# Drop some unnecessary columns\n",
    "pbp_data.drop(['offense_conference','defense_conference','clock'], axis = 1, inplace=True) \n",
    "# Ignore some types of plays cause they're special teams and weird\n",
    "ignore_types = [\"Defensive 2pt Conversion\",\"Blocked Field Goal\",\"Blocked Punt\",\"Missed Field Goal Return\",\"Blocked Punt Touchdown\",\"Missed Field Goal Return Touchdown\",\"Extra Point Missed\",\"Extra Point Good\",\"Timeout\",\"End of Half\",\"End of Game\",\"Uncategorized\",\"Penalty\",\"Kickoff\",\"Kickoff Return (Offense)\",\"Kickoff Return Touchdown\",\"Punt\", \"Field Goal Good\",\"Field Goal Missed\",\"Safety\"]\n",
    "pbp_data = pbp_data[~(pbp_data.play_type.isin(ignore_types))]\n",
    "print(\"Total clean plays:\", len(pbp_data))"
   ]
  },
  {
   "cell_type": "code",
   "execution_count": 259,
   "metadata": {},
   "outputs": [],
   "source": [
    "import numpy as np\n",
    "\n",
    "pbp_data.distance = pbp_data.distance.astype(float)\n",
    "\n",
    "bad_types = [\"Interception\",\"Pass Interception Return\",\"Interception Return Touchdown\",'Fumble Recovery (Opponent)','Sack','Fumble Return Touchdown']\n",
    "\n",
    "def is_successful(down, distance, yards_gained, play_type):\n",
    "    if (play_type in bad_types):\n",
    "        return False \n",
    "    if ((down == 1) & (yards_gained >= (0.5 * distance))):\n",
    "        return True\n",
    "    elif ((down == 2)) & (yards_gained >= (0.7 * distance)):\n",
    "        return True\n",
    "    elif ((down == 3) & (yards_gained >= distance)):\n",
    "        return True\n",
    "    else:\n",
    "        return False\n",
    "    \n",
    "pbp_data['play_successful'] = np.vectorize(is_successful)(pbp_data.down, pbp_data.distance, pbp_data.yards_gained, pbp_data.play_type)\n",
    "pbp_data.play_successful.value_counts()\n",
    "\n",
    "def is_explosive(yards_gained):\n",
    "    if (yards_gained >= 15):\n",
    "        return True\n",
    "    else:\n",
    "        return False\n",
    "    \n",
    "pbp_data['play_explosive'] = np.vectorize(is_explosive)(pbp_data.yards_gained)"
   ]
  },
  {
   "cell_type": "code",
   "execution_count": 260,
   "metadata": {},
   "outputs": [
    {
     "name": "stdout",
     "output_type": "stream",
     "text": [
      "Success Rates\n",
      "Pittsburgh\n",
      "Overall: 0.3373493975903614\n",
      "Passing: 0.1927710843373494\n",
      "Rushing: 0.14457831325301204\n",
      "Duke\n",
      "Overall: 0.30337078651685395\n",
      "Passing: 0.10112359550561797\n",
      "Rushing: 0.20224719101123595\n"
     ]
    }
   ],
   "source": [
    "pass_types = [\"Pass Reception\",\"Pass Incompletion\",\"Passing Touchdown\",\"Interception\",\"Pass Interception Return\",\"Interception Return Touchdown\"]\n",
    "rush_types = [\"Rush\",\"Rushing Touchdown\",'Fumble Recovery (Opponent)','Sack','Fumble Return Touchdown']\n",
    "\n",
    "print(\"Success Rates\")\n",
    "print(away_team)\n",
    "print(\"Overall:\",len(pbp_data[(pbp_data.offense == away_team) & (pbp_data.play_successful == True)]) / len(pbp_data[(pbp_data.offense == away_team)]))\n",
    "print(\"Passing:\",len(pbp_data[(pbp_data.offense == away_team) & (pbp_data.play_successful == True) & (pbp_data.play_type.isin(pass_types))]) / len(pbp_data[(pbp_data.offense == away_team)]))\n",
    "print(\"Rushing:\",len(pbp_data[(pbp_data.offense == away_team) & (pbp_data.play_successful == True) & (pbp_data.play_type.isin(rush_types))]) / len(pbp_data[(pbp_data.offense == away_team)]))\n",
    "print(home_team)\n",
    "print(\"Overall:\",len(pbp_data[(pbp_data.offense == home_team) & (pbp_data.play_successful == True)]) / len(pbp_data[(pbp_data.offense == home_team)]))\n",
    "print(\"Passing:\",len(pbp_data[(pbp_data.offense == home_team) & (pbp_data.play_successful == True) & (pbp_data.play_type.isin(pass_types))]) / len(pbp_data[(pbp_data.offense == home_team)]))\n",
    "print(\"Rushing:\",len(pbp_data[(pbp_data.offense == home_team) & (pbp_data.play_successful == True) & (pbp_data.play_type.isin(rush_types))]) / len(pbp_data[(pbp_data.offense == home_team)]))"
   ]
  },
  {
   "cell_type": "code",
   "execution_count": 261,
   "metadata": {},
   "outputs": [
    {
     "name": "stdout",
     "output_type": "stream",
     "text": [
      "Explosiveness Rates\n",
      "Pittsburgh\n",
      "Overall: 0.10843373493975904\n",
      "Passing: 0.08433734939759036\n",
      "Rushing: 0.024096385542168676\n",
      "Duke\n",
      "Overall: 0.07865168539325842\n",
      "Passing: 0.06741573033707865\n",
      "Rushing: 0.011235955056179775\n"
     ]
    }
   ],
   "source": [
    "# Explosiveness rates\n",
    "# Defined as rate of 15+ yards gains\n",
    "\n",
    "print(\"Explosiveness Rates\")\n",
    "print(away_team)\n",
    "print(\"Overall:\",len(pbp_data[(pbp_data.offense == away_team) & (pbp_data.play_explosive == True)]) / len(pbp_data[(pbp_data.offense == away_team)]))\n",
    "print(\"Passing:\",len(pbp_data[(pbp_data.offense == away_team) & (pbp_data.play_explosive == True) & (pbp_data.play_type.isin(pass_types))]) / len(pbp_data[(pbp_data.offense == away_team)]))\n",
    "print(\"Rushing:\",len(pbp_data[(pbp_data.offense == away_team) & (pbp_data.play_explosive == True) & (pbp_data.play_type.isin(rush_types))]) / len(pbp_data[(pbp_data.offense == away_team)]))\n",
    "print(home_team)\n",
    "print(\"Overall:\",len(pbp_data[(pbp_data.offense == home_team) & (pbp_data.play_explosive == True)]) / len(pbp_data[(pbp_data.offense == home_team)]))\n",
    "print(\"Passing:\",len(pbp_data[(pbp_data.offense == home_team) & (pbp_data.play_explosive == True) & (pbp_data.play_type.isin(pass_types))]) / len(pbp_data[(pbp_data.offense == home_team)]))\n",
    "print(\"Rushing:\",len(pbp_data[(pbp_data.offense == home_team) & (pbp_data.play_explosive == True) & (pbp_data.play_type.isin(rush_types))]) / len(pbp_data[(pbp_data.offense == home_team)]))"
   ]
  },
  {
   "cell_type": "code",
   "execution_count": 262,
   "metadata": {},
   "outputs": [
    {
     "name": "stdout",
     "output_type": "stream",
     "text": [
      "Pittsburgh Havoc Rate:  17 / 89 ( 0.19101123595505617 )\n",
      "Duke Havoc Rate:  18 / 83 ( 0.21686746987951808 )\n"
     ]
    }
   ],
   "source": [
    "# Havoc plays\n",
    "havoc_plays = pbp_data[\n",
    "    (((pbp_data.play_type == 'Pass Incompletion')\n",
    "    & (pbp_data.play_text.str.contains('broken up', regex=False)))\n",
    "    | (pbp_data.play_type == 'Fumble Recovery (Opponent)')\n",
    "    | (pbp_data.play_type == 'Sack')\n",
    "    | (pbp_data.play_type.str.contains('Interception', regex=False))\n",
    "    | (pbp_data.yards_gained < 0))\n",
    "    & (pbp_data.play_type != 'Penalty')\n",
    "]\n",
    "\n",
    "print(away_team,\"Havoc Rate: \", len(havoc_plays[\n",
    "    havoc_plays.defense == away_team\n",
    "]), \"/\", len(pbp_data[\n",
    "    pbp_data.defense == away_team\n",
    "]), \"(\",len(havoc_plays[\n",
    "    havoc_plays.defense == away_team\n",
    "]) / len(pbp_data[\n",
    "    pbp_data.defense == away_team\n",
    "]),\")\")\n",
    "\n",
    "print(home_team,\"Havoc Rate: \", len(havoc_plays[\n",
    "    havoc_plays.defense == home_team\n",
    "]), \"/\", len(pbp_data[\n",
    "    pbp_data.defense == home_team\n",
    "]), \"(\",len(havoc_plays[\n",
    "    havoc_plays.defense == home_team\n",
    "]) / len(pbp_data[\n",
    "    pbp_data.defense == home_team\n",
    "]),\")\")"
   ]
  },
  {
   "cell_type": "code",
   "execution_count": 263,
   "metadata": {},
   "outputs": [
    {
     "name": "stdout",
     "output_type": "stream",
     "text": [
      "Converted 3rd and 8+ for Pittsburgh : 2 of 9\n",
      "Converted 3rd and 8+ for Duke : 3 of 7\n"
     ]
    }
   ],
   "source": [
    "# Calculating converted 3rd and 8+s\n",
    "ignore_turnovers = ['Fumble Recovery (Opponent)','Fumble Return Touchdown',\"Interception\",\"Pass Interception Return\",\"Interception Return Touchdown\"]\n",
    "\n",
    "third_longs = pbp_data[\n",
    "    (pbp_data.down == 3)\n",
    "    & (pbp_data.distance >= 8)\n",
    "    & (~pbp_data.play_type.isin(ignore_turnovers))\n",
    "]\n",
    "# converted_3rd_longs\n",
    "\n",
    "away_team_thirds = third_longs[\n",
    "    (third_longs.offense == away_team)\n",
    "]\n",
    "\n",
    "away_team_thirds_converted = away_team_thirds[\n",
    "    (away_team_thirds.yards_gained >= 8)\n",
    "]\n",
    "print(\"Converted 3rd and 8+ for\", away_team,\":\",len(away_team_thirds_converted),\"of\",len(away_team_thirds))\n",
    "\n",
    "home_team_thirds = third_longs[\n",
    "    (third_longs.offense == home_team)\n",
    "]\n",
    "\n",
    "home_team_thirds_converted = home_team_thirds[\n",
    "    (home_team_thirds.yards_gained >= 8)\n",
    "]\n",
    "\n",
    "print(\"Converted 3rd and 8+ for\", home_team,\":\",len(home_team_thirds_converted),\"of\",len(home_team_thirds))"
   ]
  },
  {
   "cell_type": "code",
   "execution_count": 264,
   "metadata": {},
   "outputs": [
    {
     "name": "stdout",
     "output_type": "stream",
     "text": [
      "Pittsburgh Drives: 18\n",
      "Pittsburgh Avg Starting Field Position: 40.55555555555556\n",
      "Pittsburgh Yards per Play: 4.08235294117647\n",
      "Pittsburgh Plays per Drive: 4.722222222222222\n",
      "Pittsburgh Yards per Drive: 19.27777777777778\n"
     ]
    }
   ],
   "source": [
    "away_team_drives = drives[\n",
    "    drives.offense == away_team\n",
    "]\n",
    "\n",
    "print(away_team, \"Drives:\", len(away_team_drives))\n",
    "print(away_team, \"Avg Starting Field Position:\", sum(away_team_drives.start_yardline) / len(away_team_drives))\n",
    "print(away_team, \"Yards per Play:\", sum(away_team_drives.yards) / sum(away_team_drives.plays))\n",
    "print(away_team, \"Plays per Drive:\", sum(away_team_drives.plays) / len(away_team_drives))\n",
    "print(away_team, \"Yards per Drive:\", sum(away_team_drives.yards) / len(away_team_drives))"
   ]
  },
  {
   "cell_type": "code",
   "execution_count": 265,
   "metadata": {},
   "outputs": [
    {
     "name": "stdout",
     "output_type": "stream",
     "text": [
      "Duke Drives: 19\n",
      "Duke Avg Starting Field Position: 31.473684210526315\n",
      "Duke Yards per Play: 3.6777777777777776\n",
      "Duke Plays per Drive: 4.7368421052631575\n",
      "Duke Yards per Drive: 17.42105263157895\n"
     ]
    }
   ],
   "source": [
    "home_team_drives = drives[\n",
    "    drives.offense == home_team\n",
    "]\n",
    "\n",
    "print(home_team, \"Drives:\", len(home_team_drives))\n",
    "\n",
    "print(home_team, \"Avg Starting Field Position:\", sum(home_team_drives.start_yardline) / len(home_team_drives))\n",
    "print(home_team, \"Yards per Play:\", sum(home_team_drives.yards) / sum(home_team_drives.plays))\n",
    "print(home_team, \"Plays per Drive:\", sum(home_team_drives.plays) / len(home_team_drives))\n",
    "print(home_team, \"Yards per Drive:\", sum(home_team_drives.yards) / len(home_team_drives))"
   ]
  },
  {
   "cell_type": "code",
   "execution_count": 266,
   "metadata": {},
   "outputs": [],
   "source": [
    "# Measuring success rate for a single player\n",
    "# pbp_data[\n",
    "#     (pbp_data.play_text.str.contains(\"Quentin Harris\"))\n",
    "#     & (pbp_data.play_type.isin(pass_types))\n",
    "#     & (~pbp_data.play_type.str.contains(\"Sack\"))\n",
    "# ].play_successful.value_counts(normalize=True)"
   ]
  },
  {
   "cell_type": "code",
   "execution_count": 267,
   "metadata": {},
   "outputs": [],
   "source": [
    "# Standard vs Passing Downs success rates\n",
    "# Success rate on standard downs == leverage rate\n",
    "\n",
    "standard_downs = pbp_data[\n",
    "    (pbp_data.down == 1)\n",
    "    | ((pbp_data.down == 2) & (pbp_data.distance <= 7))\n",
    "    | ((pbp_data.down == 3) & (pbp_data.distance <= 4))\n",
    "    | ((pbp_data.down == 4) & (pbp_data.distance <= 4)) \n",
    "]\n",
    "\n",
    "passing_downs = pbp_data[\n",
    "    ((pbp_data.down == 2) & (pbp_data.distance >= 8))\n",
    "    | ((pbp_data.down == 3) & (pbp_data.distance >= 5))\n",
    "    | ((pbp_data.down == 4) & (pbp_data.distance >= 5)) \n",
    "]\n",
    "\n",
    "pass_plays = pbp_data[\n",
    "    pbp_data.play_type.isin(pass_types)\n",
    "]\n",
    "rush_plays = pbp_data[\n",
    "    pbp_data.play_type.isin(rush_types)\n",
    "]"
   ]
  },
  {
   "cell_type": "code",
   "execution_count": 268,
   "metadata": {},
   "outputs": [
    {
     "name": "stdout",
     "output_type": "stream",
     "text": [
      "Pittsburgh Success Rate on Std Downs: 0.4\n"
     ]
    }
   ],
   "source": [
    "print(away_team,\"Success Rate on Std Downs:\",len(standard_downs[\n",
    "    (standard_downs.offense == away_team)\n",
    "    & (standard_downs.play_successful == True)\n",
    "]) / len(standard_downs[\n",
    "    (standard_downs.offense == away_team)\n",
    "]))"
   ]
  },
  {
   "cell_type": "code",
   "execution_count": 269,
   "metadata": {},
   "outputs": [
    {
     "name": "stdout",
     "output_type": "stream",
     "text": [
      "Pittsburgh Success Rate on Passing Downs: 0.21428571428571427\n"
     ]
    }
   ],
   "source": [
    "print(away_team,\"Success Rate on Passing Downs:\",len(passing_downs[\n",
    "    (passing_downs.offense == away_team)\n",
    "    & (passing_downs.play_successful == True)\n",
    "]) / len(passing_downs[\n",
    "    (passing_downs.offense == away_team)\n",
    "]))"
   ]
  },
  {
   "cell_type": "code",
   "execution_count": 270,
   "metadata": {},
   "outputs": [
    {
     "name": "stdout",
     "output_type": "stream",
     "text": [
      "Duke Success Rate on Std Downs: 0.38596491228070173\n"
     ]
    }
   ],
   "source": [
    "print(home_team,\"Success Rate on Std Downs:\",len(standard_downs[\n",
    "    (standard_downs.offense == home_team)\n",
    "    & (standard_downs.play_successful == True)\n",
    "]) / len(standard_downs[\n",
    "    (standard_downs.offense == home_team)\n",
    "]))"
   ]
  },
  {
   "cell_type": "code",
   "execution_count": 271,
   "metadata": {},
   "outputs": [
    {
     "name": "stdout",
     "output_type": "stream",
     "text": [
      "Duke Success Rate on Passing Downs: 0.15625\n"
     ]
    }
   ],
   "source": [
    "print(home_team,\"Success Rate on Passing Downs:\",len(passing_downs[\n",
    "    (passing_downs.offense == home_team)\n",
    "    & (passing_downs.play_successful == True)\n",
    "]) / len(passing_downs[\n",
    "    (passing_downs.offense == home_team)\n",
    "]))"
   ]
  },
  {
   "cell_type": "code",
   "execution_count": 272,
   "metadata": {},
   "outputs": [],
   "source": [
    "# Stuff Rate\n",
    "stuffed_plays = rush_plays[\n",
    "    (rush_plays.yards_gained <= 0)\n",
    "    & (rush_plays.play_type != 'Sack')\n",
    "]"
   ]
  },
  {
   "cell_type": "code",
   "execution_count": 273,
   "metadata": {},
   "outputs": [
    {
     "name": "stdout",
     "output_type": "stream",
     "text": [
      "Pittsburgh Defensive Stuff Rate:  4 / 44 ( 0.09090909090909091 )\n"
     ]
    }
   ],
   "source": [
    "away_team_stuffs = stuffed_plays[\n",
    "    stuffed_plays.defense == away_team\n",
    "]\n",
    "print(away_team,\"Defensive Stuff Rate: \",len(away_team_stuffs),\"/\",len(rush_plays[rush_plays.defense == away_team]),\"(\",len(away_team_stuffs)/len(rush_plays[rush_plays.defense == away_team]),\")\")"
   ]
  },
  {
   "cell_type": "code",
   "execution_count": 274,
   "metadata": {},
   "outputs": [
    {
     "name": "stdout",
     "output_type": "stream",
     "text": [
      "Duke Defensive Stuff Rate:  7 / 36 ( 0.19444444444444445 )\n"
     ]
    }
   ],
   "source": [
    "home_team_stuffs = stuffed_plays[\n",
    "    stuffed_plays.defense == home_team\n",
    "]\n",
    "print(home_team,\"Defensive Stuff Rate: \",len(home_team_stuffs),\"/\",len(rush_plays[rush_plays.defense == home_team]),\"(\",len(home_team_stuffs)/len(rush_plays[rush_plays.defense == home_team]),\")\")"
   ]
  },
  {
   "cell_type": "code",
   "execution_count": 275,
   "metadata": {},
   "outputs": [
    {
     "name": "stdout",
     "output_type": "stream",
     "text": [
      "Pittsburgh Rush Opp Rate:  11 / 36 ( 0.3055555555555556 )\n"
     ]
    }
   ],
   "source": [
    "# Opportunity Rate\n",
    "rush_opps = rush_plays[\n",
    "    (rush_plays.yards_gained >= 5)\n",
    "]\n",
    "print(away_team,\"Rush Opp Rate: \",len(rush_opps[rush_opps.offense == away_team]),\"/\",len(rush_plays[rush_plays.offense == away_team]),\"(\",len(rush_opps[rush_opps.offense == away_team])/len(rush_plays[rush_plays.offense == away_team]),\")\")"
   ]
  },
  {
   "cell_type": "code",
   "execution_count": 276,
   "metadata": {},
   "outputs": [
    {
     "name": "stdout",
     "output_type": "stream",
     "text": [
      "Duke Rush Opp Rate:  11 / 44 ( 0.25 )\n"
     ]
    }
   ],
   "source": [
    "print(home_team,\"Rush Opp Rate: \",len(rush_opps[rush_opps.offense == home_team]),\"/\",len(rush_plays[rush_plays.offense == home_team]),\"(\",len(rush_opps[rush_opps.offense == home_team])/len(rush_plays[rush_plays.offense == home_team]),\")\")"
   ]
  },
  {
   "cell_type": "code",
   "execution_count": 277,
   "metadata": {},
   "outputs": [
    {
     "name": "stdout",
     "output_type": "stream",
     "text": [
      "Pittsburgh Line Yards per Carry: 2.3333333333333335\n",
      "Pittsburgh Highlight Yards per Carry: 0.3611111111111111\n",
      "Pittsburgh Yards per Carry: 2.6944444444444446\n",
      "Duke Line Yards per Carry: 2.5511363636363638\n",
      "Duke Highlight Yards per Carry: 0.1534090909090909\n",
      "Duke Yards per Carry: 2.7045454545454546\n"
     ]
    },
    {
     "name": "stderr",
     "output_type": "stream",
     "text": [
      "/Users/akeaswaran/anaconda3/lib/python3.7/site-packages/ipykernel_launcher.py:12: SettingWithCopyWarning: \n",
      "A value is trying to be set on a copy of a slice from a DataFrame.\n",
      "Try using .loc[row_indexer,col_indexer] = value instead\n",
      "\n",
      "See the caveats in the documentation: http://pandas.pydata.org/pandas-docs/stable/indexing.html#indexing-view-versus-copy\n",
      "  if sys.path[0] == '':\n",
      "/Users/akeaswaran/anaconda3/lib/python3.7/site-packages/ipykernel_launcher.py:13: SettingWithCopyWarning: \n",
      "A value is trying to be set on a copy of a slice from a DataFrame.\n",
      "Try using .loc[row_indexer,col_indexer] = value instead\n",
      "\n",
      "See the caveats in the documentation: http://pandas.pydata.org/pandas-docs/stable/indexing.html#indexing-view-versus-copy\n",
      "  del sys.path[0]\n"
     ]
    }
   ],
   "source": [
    "# Line Yards -- not adjusted for down/distance/opponent/shotgun\n",
    "def adjust_strength_for_ol(yards_gained):\n",
    "    if (yards_gained < 0):\n",
    "        return yards_gained * 1.25\n",
    "    elif (yards_gained >= 0 & yards_gained <= 3):\n",
    "        return yards_gained * 1.0\n",
    "    elif (yards_gained >= 4 & yards_gained <= 6):\n",
    "        return yards_gained * 0.5\n",
    "    else:\n",
    "        return 0\n",
    "\n",
    "rush_plays['line_yards'] = rush_plays.apply(lambda x: adjust_strength_for_ol(x.yards_gained), axis=1)\n",
    "rush_plays['highlight_yards'] = rush_plays.apply(lambda x: x.yards_gained - adjust_strength_for_ol(x.yards_gained), axis=1)\n",
    "print(away_team,\"Line Yards per Carry:\",sum(rush_plays[rush_plays.offense == away_team].line_yards) / len(rush_plays[rush_plays.offense == away_team]))\n",
    "print(away_team,\"Highlight Yards per Carry:\",sum(rush_plays[rush_plays.offense == away_team].highlight_yards) / len(rush_plays[rush_plays.offense == away_team]))\n",
    "print(away_team,\"Yards per Carry:\",sum(rush_plays[rush_plays.offense == away_team].yards_gained) / len(rush_plays[rush_plays.offense == away_team]))\n",
    "print(home_team,\"Line Yards per Carry:\",sum(rush_plays[rush_plays.offense == home_team].line_yards) / len(rush_plays[rush_plays.offense == home_team]))\n",
    "print(home_team,\"Highlight Yards per Carry:\",sum(rush_plays[rush_plays.offense == home_team].highlight_yards) / len(rush_plays[rush_plays.offense == home_team]))\n",
    "print(home_team,\"Yards per Carry:\",sum(rush_plays[rush_plays.offense == home_team].yards_gained) / len(rush_plays[rush_plays.offense == home_team]))"
   ]
  },
  {
   "cell_type": "code",
   "execution_count": 278,
   "metadata": {},
   "outputs": [
    {
     "name": "stdout",
     "output_type": "stream",
     "text": [
      "Pittsburgh\n",
      "Def INTs: 3\n",
      "Off INTs: 2\n",
      "PDs: 8\n",
      "Exp INTs: 1.68\n",
      "Fum Recovered: 0\n",
      "Fum Lost: 1\n",
      "Exp Fum: 1.0\n",
      "Actual TO: 3\n",
      "Actual TO Margin: 0\n",
      "Exp TO: 2.6799999999999997\n"
     ]
    }
   ],
   "source": [
    "# Expected and Adjusted Turnover Margins\n",
    "\n",
    "adj_turnover_plays = pbp_data[\n",
    "    (pbp_data.play_type.str.contains('Interception', regex=False))\n",
    "    | ((pbp_data.play_type == 'Pass Incompletion')\n",
    "    & (pbp_data.play_text.str.contains('broken up', regex=False)))\n",
    "    | (pbp_data.play_type.str.contains('Fumble', regex=False))\n",
    "]\n",
    "\n",
    "adj_fum = 0.5 * len(adj_turnover_plays[\n",
    "    (adj_turnover_plays.play_type.str.contains('Fumble', regex=False))\n",
    "])\n",
    "\n",
    "# away_team Adj Turnovers\n",
    "away_team_tos = adj_turnover_plays[\n",
    "    (adj_turnover_plays.offense == away_team)\n",
    "    | (adj_turnover_plays.defense == away_team)\n",
    "]\n",
    "print(away_team)\n",
    "away_team_ints_def = len(away_team_tos[\n",
    "   (away_team_tos.play_type.str.contains('Interception', regex=False))\n",
    "    & (away_team_tos.defense == away_team)\n",
    "])\n",
    "\n",
    "away_team_ints_off = len(away_team_tos[\n",
    "   (away_team_tos.play_type.str.contains('Interception', regex=False))\n",
    "    & (away_team_tos.offense == away_team)\n",
    "])\n",
    "\n",
    "away_team_pds = len(away_team_tos[\n",
    "   (away_team_tos.play_type == 'Pass Incompletion')\n",
    "    & (away_team_tos.play_text.str.contains('broken up', regex=False))\n",
    "    & (away_team_tos.defense == away_team)\n",
    "])\n",
    "\n",
    "away_team_fum_rec = away_team_tos[(away_team_tos.play_type == 'Fumble Recovery (Own)') & (away_team_tos.offense == away_team)]\n",
    "away_team_fum_lost = away_team_tos[(away_team_tos.play_type == 'Fumble Recovery (Opponent)') & (away_team_tos.offense == away_team)]\n",
    "\n",
    "print(\"Def INTs:\",away_team_ints_def)\n",
    "print(\"Off INTs:\",away_team_ints_off)\n",
    "print(\"PDs:\",away_team_pds)\n",
    "print(\"Exp INTs:\",0.21 * away_team_pds)\n",
    "print(\"Fum Recovered:\",len(away_team_fum_rec))\n",
    "print(\"Fum Lost:\",len(away_team_fum_lost))\n",
    "print(\"Exp Fum:\",adj_fum)\n",
    "print(\"Actual TO:\",away_team_ints_off + len(away_team_fum_lost))\n",
    "print(\"Actual TO Margin:\",(away_team_ints_def - away_team_ints_off) - len(away_team_fum_lost))\n",
    "away_team_exp_to = 0.21 * away_team_pds + adj_fum\n",
    "print(\"Exp TO:\",away_team_exp_to)"
   ]
  },
  {
   "cell_type": "code",
   "execution_count": 279,
   "metadata": {},
   "outputs": [
    {
     "name": "stdout",
     "output_type": "stream",
     "text": [
      "Duke\n",
      "Def INTs: 2\n",
      "Off INTs: 3\n",
      "PDs: 3\n",
      "Exp INTs: 0.63\n",
      "Fum Recovered: 0\n",
      "Fum Lost: 1\n",
      "Exp Fum: 1.0\n",
      "Exp TO: 1.63\n",
      "Actual TO: 4\n",
      "Actual TO Margin: -2\n",
      "Exp TO: 1.63\n"
     ]
    }
   ],
   "source": [
    "# home_team Adj Turnovers\n",
    "home_team_tos = adj_turnover_plays[\n",
    "    (adj_turnover_plays.offense == home_team)\n",
    "    | (adj_turnover_plays.defense == home_team)\n",
    "]\n",
    "print(home_team)\n",
    "home_team_ints_def = len(home_team_tos[\n",
    "   (home_team_tos.play_type.str.contains('Interception', regex=False))\n",
    "    & (home_team_tos.defense == home_team)\n",
    "])\n",
    "\n",
    "home_team_ints_off = len(home_team_tos[\n",
    "   (home_team_tos.play_type.str.contains('Interception', regex=False))\n",
    "    & (home_team_tos.offense == home_team)\n",
    "])\n",
    "\n",
    "home_team_pds = len(home_team_tos[\n",
    "   (home_team_tos.play_type == 'Pass Incompletion')\n",
    "    & (home_team_tos.play_text.str.contains('broken up', regex=False))\n",
    "    & (home_team_tos.defense == home_team)\n",
    "])\n",
    "\n",
    "home_team_fum_rec = home_team_tos[(home_team_tos.play_type == 'Fumble Recovery (Own)') & (home_team_tos.offense == home_team)]\n",
    "home_team_fum_lost = home_team_tos[(home_team_tos.play_type == 'Fumble Recovery (Opponent)') & (home_team_tos.offense == home_team)]\n",
    "\n",
    "print(\"Def INTs:\",home_team_ints_def)\n",
    "print(\"Off INTs:\",home_team_ints_off)\n",
    "print(\"PDs:\",home_team_pds)\n",
    "print(\"Exp INTs:\",0.21 * home_team_pds)\n",
    "print(\"Fum Recovered:\",len(home_team_fum_rec))\n",
    "print(\"Fum Lost:\",len(home_team_fum_lost))\n",
    "print(\"Exp Fum:\",adj_fum)\n",
    "print(\"Exp TO:\",0.21 * home_team_pds + adj_fum)\n",
    "print(\"Actual TO:\",home_team_ints_off + len(home_team_fum_lost))\n",
    "print(\"Actual TO Margin:\",(home_team_ints_def - home_team_ints_off) - len(home_team_fum_lost))\n",
    "home_team_exp_to = 0.21 * home_team_pds + adj_fum\n",
    "print(\"Exp TO:\",home_team_exp_to)"
   ]
  },
  {
   "cell_type": "code",
   "execution_count": 280,
   "metadata": {},
   "outputs": [
    {
     "name": "stdout",
     "output_type": "stream",
     "text": [
      "Exp TO Margin for Pittsburgh : 1.0499999999999998\n",
      "Exp TO Margin for Duke : -1.0499999999999998\n"
     ]
    }
   ],
   "source": [
    "away_team_exp_to_margin = (away_team_exp_to - home_team_exp_to)\n",
    "print(\"Exp TO Margin for\",away_team,\":\", away_team_exp_to_margin)\n",
    "home_team_exp_to_margin = (home_team_exp_to - away_team_exp_to)\n",
    "print(\"Exp TO Margin for\",home_team,\":\", home_team_exp_to_margin)"
   ]
  },
  {
   "cell_type": "code",
   "execution_count": 281,
   "metadata": {},
   "outputs": [
    {
     "name": "stdout",
     "output_type": "stream",
     "text": [
      "TO Luck (pts) for Pittsburgh : -5.249999999999999\n",
      "TO Luck (pts) for Duke : -4.750000000000001\n"
     ]
    }
   ],
   "source": [
    "print(\"TO Luck (pts) for\",away_team,\":\", (((away_team_ints_def - away_team_ints_off) - len(away_team_fum_lost)) - away_team_exp_to_margin) * 5.0)\n",
    "print(\"TO Luck (pts) for\",home_team,\":\", (((home_team_ints_def - home_team_ints_off) - len(home_team_fum_lost)) - home_team_exp_to_margin) * 5.0)"
   ]
  },
  {
   "cell_type": "code",
   "execution_count": 282,
   "metadata": {},
   "outputs": [
    {
     "name": "stdout",
     "output_type": "stream",
     "text": [
      "Scoring Opportunities (IE: Drives inside Opponent's 35)\n",
      "Pittsburgh\n",
      "Total: 7\n",
      "Scored: 5\n",
      "Opp Efficiency: 0.7142857142857143\n",
      "Opps/Drive: 0.3888888888888889\n",
      "Points/Opp: 3.2857142857142856\n",
      "\n",
      "Duke\n",
      "Total: 5\n",
      "Scored: 5\n",
      "Opp Efficiency: 1.0\n",
      "Opps/Drive: 0.2631578947368421\n",
      "Points/Opp: 5.8\n"
     ]
    }
   ],
   "source": [
    "# Scoring Opportunities\n",
    "# Definition: roughly, any time you get inside the opponent's 35, you should probably score\n",
    "\n",
    "scoring_opps = drives[\n",
    "    ((drives.start_yardline + drives.yards) >= 65)\n",
    "]\n",
    "\n",
    "# away team's scoring opps\n",
    "print(\"Scoring Opportunities (IE: Drives inside Opponent's 35)\")\n",
    "print(away_team)\n",
    "away_team_scoring_opps = scoring_opps[\n",
    "    scoring_opps.offense == away_team\n",
    "]\n",
    "print(\"Total:\",len(away_team_scoring_opps))\n",
    "print(\"Scored:\",len(away_team_scoring_opps[away_team_scoring_opps.scoring == True]))\n",
    "print(\"Opp Efficiency:\",len(away_team_scoring_opps[away_team_scoring_opps.scoring == True]) / len(away_team_scoring_opps))\n",
    "print(\"Opps/Drive:\",len(away_team_scoring_opps) / len(drives[drives.offense == away_team]))\n",
    "print(\"Points/Opp:\",(len(away_team_scoring_opps[away_team_scoring_opps.drive_result == 'TD']) * 7 + len(away_team_scoring_opps[away_team_scoring_opps.drive_result == 'FG'] * 3)) / len(away_team_scoring_opps))\n",
    "\n",
    "print(\"\")\n",
    "# home team's scoring opps\n",
    "print(home_team)\n",
    "home_team_scoring_opps = scoring_opps[\n",
    "    scoring_opps.offense == home_team\n",
    "]\n",
    "print(\"Total:\",len(home_team_scoring_opps))\n",
    "print(\"Scored:\",len(home_team_scoring_opps[home_team_scoring_opps.scoring == True]))\n",
    "print(\"Opp Efficiency:\",len(home_team_scoring_opps[home_team_scoring_opps.scoring == True]) / len(home_team_scoring_opps))\n",
    "print(\"Opps/Drive:\",len(home_team_scoring_opps) / len(drives[drives.offense == home_team]))\n",
    "print(\"Points/Opp:\",(len(home_team_scoring_opps[home_team_scoring_opps.drive_result == 'TD']) * 7 + len(home_team_scoring_opps[home_team_scoring_opps.drive_result == 'FG'] * 3)) / len(home_team_scoring_opps))"
   ]
  },
  {
   "cell_type": "code",
   "execution_count": null,
   "metadata": {},
   "outputs": [],
   "source": []
  }
 ],
 "metadata": {
  "kernelspec": {
   "display_name": "Python 3",
   "language": "python",
   "name": "python3"
  },
  "language_info": {
   "codemirror_mode": {
    "name": "ipython",
    "version": 3
   },
   "file_extension": ".py",
   "mimetype": "text/x-python",
   "name": "python",
   "nbconvert_exporter": "python",
   "pygments_lexer": "ipython3",
   "version": "3.7.3"
  }
 },
 "nbformat": 4,
 "nbformat_minor": 2
}
